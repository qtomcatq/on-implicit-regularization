{
 "cells": [
  {
   "cell_type": "code",
   "execution_count": 2,
   "id": "d31e1bfa-79e1-4ef2-b98d-4bdfa58efd64",
   "metadata": {},
   "outputs": [
    {
     "name": "stdout",
     "output_type": "stream",
     "text": [
      "[{'device': 0, 'total_memory': 24564.0, 'free_memory': 23376.4375, 'used_memory': 1187.5625}]\n"
     ]
    }
   ],
   "source": [
    "from typing import Union\n",
    "import pdb\n",
    "import diffrax\n",
    "import equinox as eqx  # https://github.com/patrick-kidger/equinox\n",
    "import jax\n",
    "import jax.nn as jnn\n",
    "import jax.numpy as jnp\n",
    "import jax.random as jr\n",
    "import jax.tree_util as jtu\n",
    "import matplotlib.pyplot as plt\n",
    "import optax  # https://github.com/deepmind/optax\n",
    "import numpy as np\n",
    "import control\n",
    "import pdb\n",
    "from jax.flatten_util import ravel_pytree\n",
    "import jax\n",
    "import lineax\n",
    "\n",
    "from helpers_impl import  NeuralSDEKuramoto, get_gpu_memory, adj_lattice, criticalK, objective, order_param, objective_test\n",
    "from tqdm import tqdm\n",
    "from diffrax import diffeqsolve, Tsit5, ODETerm, ReversibleHeun, Heun\n",
    "import gc\n",
    "from IPython.display import clear_output\n",
    "gc.collect()  \n",
    "print(get_gpu_memory())\n",
    "jax.config.update(\"jax_enable_x64\", False)"
   ]
  },
  {
   "cell_type": "code",
   "execution_count": 145,
   "id": "ea379396-e777-4c6e-9c76-96495eda2e77",
   "metadata": {},
   "outputs": [
    {
     "name": "stdout",
     "output_type": "stream",
     "text": [
      "[{'device': 0, 'total_memory': 24564.0, 'free_memory': 4734.625, 'used_memory': 19829.375}]\n",
      "[{'device': 0, 'total_memory': 24564.0, 'free_memory': 4734.5, 'used_memory': 19829.5}]\n",
      "[{'device': 0, 'total_memory': 24564.0, 'free_memory': 4733.125, 'used_memory': 19830.875}]\n",
      "8.642656466341915\n",
      "[{'device': 0, 'total_memory': 24564.0, 'free_memory': 4733.125, 'used_memory': 19830.875}]\n"
     ]
    }
   ],
   "source": [
    "batch_size =1024\n",
    "scale=5\n",
    "scale_kin=5\n",
    "lattice=True\n",
    "diff=0\n",
    "nobs=0\n",
    "\n",
    "print(get_gpu_memory())\n",
    "%store -r Astored\n",
    "A = Astored\n",
    "\n",
    "data_size=Astored.shape[1]\n",
    "#freqs=np.random.randn(batch_size,data_size)/scale_kin\n",
    "print(get_gpu_memory())\n",
    "Kcrit, L=criticalK(A,data_size,scale)\n",
    "A=jnp.array(A)\n",
    "L=jnp.array(L)\n",
    "alpha=0.9\n",
    "print(get_gpu_memory())\n",
    "skip=True\n",
    "\n",
    "\n",
    "ema_loss=0\n",
    "ema_ener=0\n",
    "Kcrit=0.01*Kcrit\n",
    "\n",
    "hidden_size=data_size\n",
    "\n",
    "width_size=8*data_size\n",
    "depth=5\n",
    "\n",
    "\n",
    "\n",
    "# Create an ensemble of models\n",
    "print(Kcrit)\n",
    "print(get_gpu_memory())"
   ]
  },
  {
   "cell_type": "code",
   "execution_count": 12,
   "id": "5d5bcb1d-3cd4-48ce-9662-f9558f27ec21",
   "metadata": {},
   "outputs": [],
   "source": [
    "freqs=np.random.randn(1,data_size)/scale\n",
    "freqs=jnp.repeat(freqs, repeats=batch_size, axis=0)\n"
   ]
  },
  {
   "cell_type": "code",
   "execution_count": 147,
   "id": "ded5e30e-ba91-4eae-9853-6e2c4ff467c0",
   "metadata": {},
   "outputs": [
    {
     "name": "stdout",
     "output_type": "stream",
     "text": [
      "Stored 'freqs' (ArrayImpl)\n",
      "Stored 'y0' (ndarray)\n"
     ]
    }
   ],
   "source": [
    " \n",
    "\n",
    "t_size=32\n",
    "t0 = 0\n",
    "t1 = 1\n",
    "ts = jnp.linspace(t0, t1, t_size)\n",
    "tss = jnp.expand_dims(ts, axis=0)\n",
    "tsss = jnp.repeat(tss, repeats=batch_size, axis=0)\n",
    "#initialize the ODE\n",
    "\n",
    "seed=5679\n",
    "key = jr.PRNGKey(seed)\n",
    "strategy=\"vector\"\n",
    "generator=NeuralSDEKuramoto(\n",
    "        data_size,\n",
    "        hidden_size,\n",
    "        width_size,\n",
    "        depth,\n",
    "        strategy,\n",
    "        key=key\n",
    "    )\n",
    "#learning rate\n",
    "learning_rate=0.00012\n",
    "\n",
    "#adam optimizer\n",
    "b1=0.9\n",
    "b2=0.999\n",
    "eps=1e-08\n",
    "optim = optax.adam(learning_rate, b1=b1, b2=b2, eps=0, eps_root=eps)\n",
    "\n",
    "opt_state = optim.init(eqx.filter(generator, eqx.is_inexact_array))\n",
    "R=0.0\n",
    "\n",
    "freqs=np.random.randn(1,data_size)/scale\n",
    "freqs=jnp.repeat(freqs, repeats=batch_size, axis=0)\n",
    "\n",
    "K0 = jnp.repeat(Kcrit, repeats=batch_size, axis=0) \n",
    "A0= jnp.repeat(jnp.expand_dims(A, axis=0), repeats=batch_size, axis=0)\n",
    "\n",
    "%store freqs\n",
    "\n",
    "#initial conditions \n",
    "#y00=jnp.append(x00, jnp.zeros((1,1)))\n",
    "#y0 = jnp.expand_dims(y00, axis=0)\n",
    "y0=np.random.randn(batch_size,data_size)/scale_kin  \n",
    "\n",
    "%store y0\n",
    "\n",
    "y00=jnp.concatenate([y0,jnp.zeros((batch_size,1))], axis=1)\n",
    "#common denominator term\n",
    "@jax.jit\n",
    "def smoothed_inverse_grad(grad, eps=1e-05):\n",
    "    return 1.0 / jnp.sqrt(grad + eps)\n",
    "\n",
    "#for cost and its gradient evaluation\n",
    "@eqx.filter_value_and_grad  \n",
    "def loss(model):\n",
    "  \n",
    "    pred_y = jax.vmap(model)(tsss, y0, freqs, A0, K0)\n",
    "    pred=jnp.squeeze(pred_y[0,-1,0:hidden_size])\n",
    "  \n",
    "    los_energy =jnp.mean( objective_test(pred_y[:,-1,0:hidden_size],A))\n",
    "\n",
    "    return los_energy\n",
    "\n",
    "\n",
    "@eqx.filter_jit\n",
    "def predict(flat_params, static, unravel_fn):\n",
    "    unflat_params = unravel_fn(flat_params)\n",
    "    modelx = eqx.combine(static, unflat_params)\n",
    "    \n",
    "    pred_y = jax.vmap(modelx)(tsss, y0, freqs, A0, K0)\n",
    "    pred=jnp.squeeze(pred_y[:,-1,0:hidden_size])\n",
    "\n",
    "   \n",
    "\n",
    "    return pred\n",
    "\n",
    "#for energy and its gradient evaluation\n",
    "@eqx.filter_jit \n",
    "def loss_kin(model):\n",
    "   \n",
    "    pred_y = jax.vmap(model)(tsss,  y0, freqs, A0, K0)\n",
    "    \n",
    "    kin_energy=  jnp.mean(pred_y[:,-1,-1])\n",
    "    orparam= jnp.mean(order_param(pred_y[:,-1,0:hidden_size],L))\n",
    "    return kin_energy, orparam\n",
    "\n",
    "#for Hessian evaluation\n",
    "@eqx.filter_jit\n",
    "def l1(flat_params, static, unravel_fn,y0):\n",
    "\n",
    "    unflat_params = unravel_fn(flat_params)\n",
    "    modelx = eqx.combine(static, unflat_params)\n",
    "\n",
    "    if strategy==\"scalar\":\n",
    "        vf = diffrax.ODETerm(modelx.vf)  # Drift term\n",
    "    elif strategy==\"vector\":\n",
    "        vf= diffrax.ODETerm(modelx.vf_vec)\n",
    "    else:\n",
    "        vf=diffrax.ODETerm(modelx.vf_vec_cl)\n",
    "\n",
    "    \n",
    "    solver = Heun(scan_kind=\"bounded\")\n",
    "    t0 = ts[0]\n",
    "    t1 = ts[-1]\n",
    "   \n",
    "    dt=(t1-t0)/ts.shape[0]\n",
    " \n",
    "    saveat = diffrax.SaveAt(ts=ts)\n",
    "    args = (freqs[0,:], A0[0,:,:], Kcrit)\n",
    "\n",
    "\n",
    "    pred_y = diffeqsolve(vf, solver, t0=t0, t1=t1, dt0=dt, y0=y0, args=args).ys\n",
    "    pred=pred_y[-1,0:hidden_size]\n",
    "\n",
    "    los_energy = jnp.mean( objective(pred, A0[0,:,:]))\n",
    "    score= los_energy\n",
    "\n",
    "    return score\n",
    "\n",
    "#for evaluation of directional derivatives of control energy\n",
    "\n",
    "    \n",
    "@eqx.filter_jit\n",
    "def make_step(model, batch_size, tsss, key, opt_state, y0,  counter, optim):\n",
    "\n",
    "    key = jr.split(key, batch_size)\n",
    "    \n",
    "    #evaluate loss, energy and gradients\n",
    "    value, grads = loss(model)\n",
    "    value1, orparam = loss_kin(model)\n",
    "\n",
    "\n",
    "    updates, opt_state = optim.update(grads, opt_state)\n",
    "    model = eqx.apply_updates(model, updates)\n",
    "\n",
    "    counter+=1\n",
    "    return model, opt_state, grads, value, value1,  counter, orparam\n",
    "\n"
   ]
  },
  {
   "cell_type": "code",
   "execution_count": null,
   "id": "daca18ce-0a8e-4434-a7ed-15c4a3994bce",
   "metadata": {},
   "outputs": [
    {
     "name": "stderr",
     "output_type": "stream",
     "text": [
      "\n",
      " 46%|████▌     | 68501/150000 [1:13:45<3:00:45,  7.51it/s]\u001b[A\n",
      " 46%|████▌     | 68503/150000 [1:13:45<2:32:38,  8.90it/s]\u001b[A\n",
      " 46%|████▌     | 68505/150000 [1:13:46<2:12:48, 10.23it/s]\u001b[A"
     ]
    },
    {
     "name": "stdout",
     "output_type": "stream",
     "text": [
      "ema loss\n",
      "0.004536897\n",
      "kin\n",
      "28.408113\n",
      "order param\n",
      "0.99997914\n",
      "ema loss\n",
      "0.0045335004\n",
      "kin\n",
      "28.450523\n",
      "order param\n",
      "0.9999852\n",
      "ema loss\n",
      "0.0045371423\n",
      "kin\n",
      "28.530022\n",
      "order param\n",
      "0.9999782\n",
      "ema loss\n",
      "0.0045405403\n",
      "kin\n",
      "28.48392\n",
      "order param\n",
      "0.9999788\n"
     ]
    },
    {
     "name": "stderr",
     "output_type": "stream",
     "text": [
      "\n",
      " 46%|████▌     | 68507/150000 [1:13:46<1:58:40, 11.44it/s]\u001b[A\n",
      " 46%|████▌     | 68509/150000 [1:13:46<1:48:50, 12.48it/s]\u001b[A"
     ]
    },
    {
     "name": "stdout",
     "output_type": "stream",
     "text": [
      "ema loss\n",
      "0.0045362883\n",
      "kin\n",
      "28.355165\n",
      "order param\n",
      "0.99998564\n",
      "ema loss\n",
      "0.0045420076\n",
      "kin\n",
      "28.26956\n",
      "order param\n",
      "0.999978\n",
      "ema loss\n",
      "0.004552772\n",
      "kin\n",
      "28.083466\n",
      "order param\n",
      "0.9999742\n",
      "ema loss\n",
      "0.0045552575\n",
      "kin\n",
      "27.750221\n",
      "order param\n",
      "0.99998075\n"
     ]
    },
    {
     "name": "stderr",
     "output_type": "stream",
     "text": [
      "\n",
      " 46%|████▌     | 68511/150000 [1:13:46<1:42:06, 13.30it/s]\u001b[A\n",
      " 46%|████▌     | 68513/150000 [1:13:46<1:37:32, 13.92it/s]\u001b[A"
     ]
    },
    {
     "name": "stdout",
     "output_type": "stream",
     "text": [
      "ema loss\n",
      "0.004557708\n",
      "kin\n",
      "27.736702\n",
      "order param\n",
      "0.9999802\n",
      "ema loss\n",
      "0.004561383\n",
      "kin\n",
      "27.895622\n",
      "order param\n",
      "0.9999784\n",
      "ema loss\n",
      "0.0045643207\n",
      "kin\n",
      "28.104612\n",
      "order param\n",
      "0.99997854\n",
      "ema loss\n",
      "0.0045660078\n",
      "kin\n",
      "28.139435\n",
      "order param\n",
      "0.9999807\n"
     ]
    },
    {
     "name": "stderr",
     "output_type": "stream",
     "text": [
      "\n",
      " 46%|████▌     | 68515/150000 [1:13:46<1:34:04, 14.44it/s]\u001b[A\n",
      " 46%|████▌     | 68517/150000 [1:13:46<1:31:24, 14.86it/s]\u001b[A"
     ]
    },
    {
     "name": "stdout",
     "output_type": "stream",
     "text": [
      "ema loss\n",
      "0.004567175\n",
      "kin\n",
      "27.952974\n",
      "order param\n",
      "0.9999814\n",
      "ema loss\n",
      "0.004567952\n",
      "kin\n",
      "27.686403\n",
      "order param\n",
      "0.99998206\n",
      "ema loss\n",
      "0.0045685004\n",
      "kin\n",
      "27.670837\n",
      "order param\n",
      "0.99998236\n",
      "ema loss\n",
      "0.004568469\n",
      "kin\n",
      "27.903412\n",
      "order param\n",
      "0.9999827\n"
     ]
    },
    {
     "name": "stderr",
     "output_type": "stream",
     "text": [
      "\n",
      " 46%|████▌     | 68519/150000 [1:13:46<1:29:45, 15.13it/s]\u001b[A\n",
      " 46%|████▌     | 68521/150000 [1:13:47<1:28:14, 15.39it/s]\u001b[A"
     ]
    },
    {
     "name": "stdout",
     "output_type": "stream",
     "text": [
      "ema loss\n",
      "0.004569424\n",
      "kin\n",
      "28.132599\n",
      "order param\n",
      "0.99998176\n",
      "ema loss\n",
      "0.0045668613\n",
      "kin\n",
      "28.153502\n",
      "order param\n",
      "0.999984\n",
      "ema loss\n",
      "0.004566794\n",
      "kin\n",
      "28.19506\n",
      "order param\n",
      "0.999982\n",
      "ema loss\n",
      "0.004565184\n",
      "kin\n",
      "28.282257\n",
      "order param\n",
      "0.9999831\n"
     ]
    },
    {
     "name": "stderr",
     "output_type": "stream",
     "text": [
      "\n",
      " 46%|████▌     | 68523/150000 [1:13:47<1:27:47, 15.47it/s]\u001b[A\n",
      " 46%|████▌     | 68525/150000 [1:13:47<1:27:28, 15.52it/s]\u001b[A"
     ]
    },
    {
     "name": "stdout",
     "output_type": "stream",
     "text": [
      "ema loss\n",
      "0.0045619146\n",
      "kin\n",
      "28.39507\n",
      "order param\n",
      "0.99998504\n",
      "ema loss\n",
      "0.0045587905\n",
      "kin\n",
      "28.40905\n",
      "order param\n",
      "0.99998486\n",
      "ema loss\n",
      "0.0045587164\n",
      "kin\n",
      "28.392994\n",
      "order param\n",
      "0.9999826\n",
      "ema loss\n",
      "0.004556298\n",
      "kin\n",
      "28.355461\n",
      "order param\n",
      "0.9999845\n"
     ]
    },
    {
     "name": "stderr",
     "output_type": "stream",
     "text": [
      "\n",
      " 46%|████▌     | 68527/150000 [1:13:47<1:26:46, 15.65it/s]\u001b[A\n",
      " 46%|████▌     | 68529/150000 [1:13:47<1:26:29, 15.70it/s]\u001b[A"
     ]
    },
    {
     "name": "stdout",
     "output_type": "stream",
     "text": [
      "ema loss\n",
      "0.0045537394\n",
      "kin\n",
      "28.313871\n",
      "order param\n",
      "0.9999845\n",
      "ema loss\n",
      "0.004552754\n",
      "kin\n",
      "28.3826\n",
      "order param\n",
      "0.99998295\n",
      "ema loss\n",
      "0.0045515746\n",
      "kin\n",
      "28.45999\n",
      "order param\n",
      "0.9999826\n",
      "ema loss\n",
      "0.0045497282\n",
      "kin\n",
      "28.578218\n",
      "order param\n",
      "0.9999834\n"
     ]
    },
    {
     "name": "stderr",
     "output_type": "stream",
     "text": [
      "\n",
      " 46%|████▌     | 68531/150000 [1:13:47<1:26:14, 15.74it/s]\u001b[A\n",
      " 46%|████▌     | 68533/150000 [1:13:47<1:26:15, 15.74it/s]\u001b[A"
     ]
    },
    {
     "name": "stdout",
     "output_type": "stream",
     "text": [
      "ema loss\n",
      "0.004547237\n",
      "kin\n",
      "28.597694\n",
      "order param\n",
      "0.9999844\n",
      "ema loss\n",
      "0.0045456793\n",
      "kin\n",
      "28.521238\n",
      "order param\n",
      "0.9999839\n",
      "ema loss\n",
      "0.004543138\n",
      "kin\n",
      "28.379189\n",
      "order param\n",
      "0.9999845\n",
      "ema loss\n",
      "0.0045393743\n",
      "kin\n",
      "28.41204\n",
      "order param\n",
      "0.9999855\n"
     ]
    },
    {
     "name": "stderr",
     "output_type": "stream",
     "text": [
      "\n",
      " 46%|████▌     | 68535/150000 [1:13:47<1:25:58, 15.79it/s]\u001b[A\n",
      " 46%|████▌     | 68537/150000 [1:13:48<1:25:36, 15.86it/s]\u001b[A"
     ]
    },
    {
     "name": "stdout",
     "output_type": "stream",
     "text": [
      "ema loss\n",
      "0.0045397324\n",
      "kin\n",
      "28.531038\n",
      "order param\n",
      "0.9999813\n",
      "ema loss\n",
      "0.004540821\n",
      "kin\n",
      "28.70947\n",
      "order param\n",
      "0.9999815\n",
      "ema loss\n",
      "0.0045393794\n",
      "kin\n",
      "28.64337\n",
      "order param\n",
      "0.99998295\n",
      "ema loss\n",
      "0.0045364164\n",
      "kin\n",
      "28.54056\n",
      "order param\n",
      "0.9999846\n"
     ]
    },
    {
     "name": "stderr",
     "output_type": "stream",
     "text": [
      "\n",
      " 46%|████▌     | 68539/150000 [1:13:48<1:26:04, 15.77it/s]\u001b[A\n",
      " 46%|████▌     | 68541/150000 [1:13:48<1:25:42, 15.84it/s]\u001b[A"
     ]
    },
    {
     "name": "stdout",
     "output_type": "stream",
     "text": [
      "ema loss\n",
      "0.0045336206\n",
      "kin\n",
      "28.4993\n",
      "order param\n",
      "0.9999846\n",
      "ema loss\n",
      "0.00453475\n",
      "kin\n",
      "28.534233\n",
      "order param\n",
      "0.9999819\n",
      "ema loss\n",
      "0.004532762\n",
      "kin\n",
      "28.459898\n",
      "order param\n",
      "0.99998444\n",
      "ema loss\n",
      "0.004534624\n",
      "kin\n",
      "28.469795\n",
      "order param\n",
      "0.9999807\n"
     ]
    },
    {
     "name": "stderr",
     "output_type": "stream",
     "text": [
      "\n",
      " 46%|████▌     | 68543/150000 [1:13:48<1:25:46, 15.83it/s]\u001b[A\n",
      " 46%|████▌     | 68545/150000 [1:13:48<1:25:49, 15.82it/s]\u001b[A"
     ]
    },
    {
     "name": "stdout",
     "output_type": "stream",
     "text": [
      "ema loss\n",
      "0.0045327526\n",
      "kin\n",
      "28.573702\n",
      "order param\n",
      "0.9999834\n",
      "ema loss\n",
      "0.0045330925\n",
      "kin\n",
      "28.750069\n",
      "order param\n",
      "0.9999821\n",
      "ema loss\n",
      "0.004531617\n",
      "kin\n",
      "28.696718\n",
      "order param\n",
      "0.99998355\n",
      "ema loss\n",
      "0.004527204\n",
      "kin\n",
      "28.530367\n",
      "order param\n",
      "0.99998593\n"
     ]
    },
    {
     "name": "stderr",
     "output_type": "stream",
     "text": [
      "\n",
      " 46%|████▌     | 68547/150000 [1:13:48<1:26:06, 15.77it/s]\u001b[A\n",
      " 46%|████▌     | 68549/150000 [1:13:48<1:25:57, 15.79it/s]\u001b[A"
     ]
    },
    {
     "name": "stdout",
     "output_type": "stream",
     "text": [
      "ema loss\n",
      "0.00452568\n",
      "kin\n",
      "28.399323\n",
      "order param\n",
      "0.9999839\n",
      "ema loss\n",
      "0.004525291\n",
      "kin\n",
      "28.48803\n",
      "order param\n",
      "0.9999825\n",
      "ema loss\n",
      "0.0045237704\n",
      "kin\n",
      "28.68735\n",
      "order param\n",
      "0.99998367\n",
      "ema loss\n",
      "0.00452165\n",
      "kin\n",
      "28.779413\n",
      "order param\n",
      "0.99998367\n"
     ]
    },
    {
     "name": "stderr",
     "output_type": "stream",
     "text": [
      "\n",
      " 46%|████▌     | 68551/150000 [1:13:48<1:26:03, 15.77it/s]\u001b[A\n",
      " 46%|████▌     | 68553/150000 [1:13:49<1:26:33, 15.68it/s]\u001b[A"
     ]
    },
    {
     "name": "stdout",
     "output_type": "stream",
     "text": [
      "ema loss\n",
      "0.004521589\n",
      "kin\n",
      "28.848875\n",
      "order param\n",
      "0.9999824\n",
      "ema loss\n",
      "0.0045180744\n",
      "kin\n",
      "28.840492\n",
      "order param\n",
      "0.9999852\n",
      "ema loss\n",
      "0.004516942\n",
      "kin\n",
      "28.720306\n",
      "order param\n",
      "0.99998385\n",
      "ema loss\n",
      "0.0045203785\n",
      "kin\n",
      "28.560148\n",
      "order param\n",
      "0.99997973\n"
     ]
    },
    {
     "name": "stderr",
     "output_type": "stream",
     "text": [
      "\n",
      " 46%|████▌     | 68555/150000 [1:13:49<1:26:16, 15.73it/s]\u001b[A\n",
      " 46%|████▌     | 68557/150000 [1:13:49<1:26:09, 15.75it/s]\u001b[A"
     ]
    },
    {
     "name": "stdout",
     "output_type": "stream",
     "text": [
      "ema loss\n",
      "0.004520721\n",
      "kin\n",
      "28.562777\n",
      "order param\n",
      "0.999982\n",
      "ema loss\n",
      "0.004516501\n",
      "kin\n",
      "28.700684\n",
      "order param\n",
      "0.9999858\n",
      "ema loss\n",
      "0.0045143166\n",
      "kin\n",
      "28.800806\n",
      "order param\n",
      "0.999984\n",
      "ema loss\n",
      "0.0045130374\n",
      "kin\n",
      "28.779543\n",
      "order param\n",
      "0.9999832\n"
     ]
    },
    {
     "name": "stderr",
     "output_type": "stream",
     "text": [
      "\n",
      " 46%|████▌     | 68559/150000 [1:13:49<1:26:17, 15.73it/s]\u001b[A\n",
      " 46%|████▌     | 68561/150000 [1:13:49<1:26:41, 15.66it/s]\u001b[A"
     ]
    },
    {
     "name": "stdout",
     "output_type": "stream",
     "text": [
      "ema loss\n",
      "0.0045087603\n",
      "kin\n",
      "28.626595\n",
      "order param\n",
      "0.9999859\n",
      "ema loss\n",
      "0.004507124\n",
      "kin\n",
      "28.504519\n",
      "order param\n",
      "0.9999837\n",
      "ema loss\n",
      "0.0045040622\n",
      "kin\n",
      "28.533968\n",
      "order param\n",
      "0.999985\n",
      "ema loss\n",
      "0.0045010983\n",
      "kin\n",
      "28.672554\n",
      "order param\n",
      "0.9999847\n"
     ]
    },
    {
     "name": "stderr",
     "output_type": "stream",
     "text": [
      "\n",
      " 46%|████▌     | 68563/150000 [1:13:49<1:26:29, 15.69it/s]\u001b[A\n",
      " 46%|████▌     | 68565/150000 [1:13:49<1:26:04, 15.77it/s]\u001b[A"
     ]
    },
    {
     "name": "stdout",
     "output_type": "stream",
     "text": [
      "ema loss\n",
      "0.0044967197\n",
      "kin\n",
      "28.806671\n",
      "order param\n",
      "0.9999857\n",
      "ema loss\n",
      "0.004493331\n",
      "kin\n",
      "28.867949\n",
      "order param\n",
      "0.99998486\n",
      "ema loss\n",
      "0.0044925045\n",
      "kin\n",
      "28.821932\n",
      "order param\n",
      "0.99998313\n",
      "ema loss\n",
      "0.004488038\n",
      "kin\n",
      "28.70462\n",
      "order param\n",
      "0.9999862\n"
     ]
    },
    {
     "name": "stderr",
     "output_type": "stream",
     "text": [
      "\n",
      " 46%|████▌     | 68567/150000 [1:13:50<1:26:23, 15.71it/s]\u001b[A\n",
      " 46%|████▌     | 68569/150000 [1:13:50<1:26:20, 15.72it/s]\u001b[A"
     ]
    },
    {
     "name": "stdout",
     "output_type": "stream",
     "text": [
      "ema loss\n",
      "0.00448433\n",
      "kin\n",
      "28.663725\n",
      "order param\n",
      "0.9999857\n",
      "ema loss\n",
      "0.004486873\n",
      "kin\n",
      "28.758698\n",
      "order param\n",
      "0.9999802\n",
      "ema loss\n",
      "0.0044853874\n",
      "kin\n",
      "28.819796\n",
      "order param\n",
      "0.9999835\n",
      "ema loss\n",
      "0.0044818292\n",
      "kin\n",
      "28.854979\n",
      "order param\n",
      "0.9999852\n"
     ]
    },
    {
     "name": "stderr",
     "output_type": "stream",
     "text": [
      "\n",
      " 46%|████▌     | 68571/150000 [1:13:50<1:26:21, 15.71it/s]\u001b[A\n",
      " 46%|████▌     | 68573/150000 [1:13:50<1:26:13, 15.74it/s]\u001b[A\n",
      " 46%|████▋     | 69583/150000 [1:14:55<1:25:15, 15.72it/s]\u001b[A\n",
      " 46%|████▋     | 69585/150000 [1:14:55<1:24:53, 15.79it/s]\u001b[A"
     ]
    },
    {
     "name": "stdout",
     "output_type": "stream",
     "text": [
      "ema loss\n",
      "0.0045235106\n",
      "kin\n",
      "27.93383\n",
      "order param\n",
      "0.9999783\n",
      "ema loss\n",
      "0.0045223087\n",
      "kin\n",
      "27.98062\n",
      "order param\n",
      "0.99998343\n",
      "ema loss\n",
      "0.0045229755\n",
      "kin\n",
      "27.988161\n",
      "order param\n",
      "0.9999814\n",
      "ema loss\n",
      "0.004526502\n",
      "kin\n",
      "27.9058\n",
      "order param\n",
      "0.9999791\n"
     ]
    },
    {
     "name": "stderr",
     "output_type": "stream",
     "text": [
      "\n",
      " 46%|████▋     | 69587/150000 [1:14:55<1:25:01, 15.76it/s]\u001b[A\n",
      " 46%|████▋     | 69589/150000 [1:14:55<1:25:07, 15.74it/s]\u001b[A"
     ]
    },
    {
     "name": "stdout",
     "output_type": "stream",
     "text": [
      "ema loss\n",
      "0.004529496\n",
      "kin\n",
      "27.932467\n",
      "order param\n",
      "0.99997973\n",
      "ema loss\n",
      "0.00452635\n",
      "kin\n",
      "28.088799\n",
      "order param\n",
      "0.99998444\n",
      "ema loss\n",
      "0.004528968\n",
      "kin\n",
      "28.283052\n",
      "order param\n",
      "0.9999807\n",
      "ema loss\n",
      "0.0045292224\n",
      "kin\n",
      "28.323183\n",
      "order param\n",
      "0.9999826\n"
     ]
    },
    {
     "name": "stderr",
     "output_type": "stream",
     "text": [
      "\n",
      " 46%|████▋     | 69591/150000 [1:14:56<1:25:10, 15.73it/s]\u001b[A\n",
      " 46%|████▋     | 69593/150000 [1:14:56<1:25:20, 15.70it/s]\u001b[A"
     ]
    },
    {
     "name": "stdout",
     "output_type": "stream",
     "text": [
      "ema loss\n",
      "0.004528743\n",
      "kin\n",
      "28.290377\n",
      "order param\n",
      "0.9999833\n",
      "ema loss\n",
      "0.0045318957\n",
      "kin\n",
      "28.29355\n",
      "order param\n",
      "0.99997956\n",
      "ema loss\n",
      "0.0045291814\n",
      "kin\n",
      "28.348146\n",
      "order param\n",
      "0.99998444\n",
      "ema loss\n",
      "0.004529758\n",
      "kin\n",
      "28.48603\n",
      "order param\n",
      "0.9999812\n"
     ]
    },
    {
     "name": "stderr",
     "output_type": "stream",
     "text": [
      "\n",
      " 46%|████▋     | 69595/150000 [1:14:56<1:25:06, 15.75it/s]\u001b[A\n",
      " 46%|████▋     | 69597/150000 [1:14:56<1:25:04, 15.75it/s]\u001b[A"
     ]
    },
    {
     "name": "stdout",
     "output_type": "stream",
     "text": [
      "ema loss\n",
      "0.004529237\n",
      "kin\n",
      "28.581388\n",
      "order param\n",
      "0.999982\n",
      "ema loss\n",
      "0.0045267884\n",
      "kin\n",
      "28.461855\n",
      "order param\n",
      "0.9999844\n",
      "ema loss\n",
      "0.004531349\n",
      "kin\n",
      "28.25747\n",
      "order param\n",
      "0.99997914\n",
      "ema loss\n",
      "0.004530258\n",
      "kin\n",
      "28.065758\n",
      "order param\n",
      "0.9999838\n"
     ]
    },
    {
     "name": "stderr",
     "output_type": "stream",
     "text": [
      "\n",
      " 46%|████▋     | 69599/150000 [1:14:56<1:24:49, 15.80it/s]\u001b[A\n",
      " 46%|████▋     | 69601/150000 [1:14:56<1:24:27, 15.87it/s]\u001b[A"
     ]
    },
    {
     "name": "stdout",
     "output_type": "stream",
     "text": [
      "ema loss\n",
      "0.004529588\n",
      "kin\n",
      "28.034365\n",
      "order param\n",
      "0.99998325\n",
      "ema loss\n",
      "0.004531808\n",
      "kin\n",
      "28.23603\n",
      "order param\n",
      "0.9999795\n",
      "ema loss\n",
      "0.0045283893\n",
      "kin\n",
      "28.359194\n",
      "order param\n",
      "0.9999845\n",
      "ema loss\n",
      "0.004526515\n",
      "kin\n",
      "28.371082\n",
      "order param\n",
      "0.99998367\n"
     ]
    },
    {
     "name": "stderr",
     "output_type": "stream",
     "text": [
      "\n",
      " 46%|████▋     | 69603/150000 [1:14:56<1:24:52, 15.79it/s]\u001b[A\n",
      " 46%|████▋     | 69605/150000 [1:14:56<1:24:55, 15.78it/s]\u001b[A"
     ]
    },
    {
     "name": "stdout",
     "output_type": "stream",
     "text": [
      "ema loss\n",
      "0.0045232316\n",
      "kin\n",
      "28.261608\n",
      "order param\n",
      "0.999985\n",
      "ema loss\n",
      "0.0045203916\n",
      "kin\n",
      "28.118355\n",
      "order param\n",
      "0.99998486\n",
      "ema loss\n",
      "0.004521371\n",
      "kin\n",
      "28.068947\n",
      "order param\n",
      "0.99998176\n",
      "ema loss\n",
      "0.0045181448\n",
      "kin\n",
      "28.25638\n",
      "order param\n",
      "0.9999848\n"
     ]
    },
    {
     "name": "stderr",
     "output_type": "stream",
     "text": [
      "\n",
      " 46%|████▋     | 69607/150000 [1:14:57<1:25:18, 15.71it/s]\u001b[A\n",
      " 46%|████▋     | 69609/150000 [1:14:57<1:25:06, 15.74it/s]\u001b[A"
     ]
    },
    {
     "name": "stdout",
     "output_type": "stream",
     "text": [
      "ema loss\n",
      "0.004516035\n",
      "kin\n",
      "28.519102\n",
      "order param\n",
      "0.9999839\n",
      "ema loss\n",
      "0.004515191\n",
      "kin\n",
      "28.670382\n",
      "order param\n",
      "0.9999824\n",
      "ema loss\n",
      "0.0045119417\n",
      "kin\n",
      "28.675941\n",
      "order param\n",
      "0.9999846\n",
      "ema loss\n",
      "0.0045073377\n",
      "kin\n",
      "28.59247\n",
      "order param\n",
      "0.9999862\n"
     ]
    },
    {
     "name": "stderr",
     "output_type": "stream",
     "text": [
      "\n",
      " 46%|████▋     | 69611/150000 [1:14:57<1:25:34, 15.66it/s]\u001b[A\n",
      " 46%|████▋     | 69613/150000 [1:14:57<1:25:55, 15.59it/s]\u001b[A"
     ]
    },
    {
     "name": "stdout",
     "output_type": "stream",
     "text": [
      "ema loss\n",
      "0.0045093815\n",
      "kin\n",
      "28.597069\n",
      "order param\n",
      "0.99998045\n",
      "ema loss\n",
      "0.0045052976\n",
      "kin\n",
      "28.695618\n",
      "order param\n",
      "0.9999859\n",
      "ema loss\n",
      "0.00450204\n",
      "kin\n",
      "28.863218\n",
      "order param\n",
      "0.9999852\n",
      "ema loss\n",
      "0.004498922\n",
      "kin\n",
      "29.01941\n",
      "order param\n",
      "0.9999849\n"
     ]
    },
    {
     "name": "stderr",
     "output_type": "stream",
     "text": [
      "\n",
      " 46%|████▋     | 69615/150000 [1:14:57<1:25:47, 15.62it/s]\u001b[A\n",
      " 46%|████▋     | 69617/150000 [1:14:57<1:25:48, 15.61it/s]\u001b[A"
     ]
    },
    {
     "name": "stdout",
     "output_type": "stream",
     "text": [
      "ema loss\n",
      "0.004496864\n",
      "kin\n",
      "29.045591\n",
      "order param\n",
      "0.99998343\n",
      "ema loss\n",
      "0.0044967965\n",
      "kin\n",
      "28.917578\n",
      "order param\n",
      "0.99998176\n",
      "ema loss\n",
      "0.0044944407\n",
      "kin\n",
      "28.7937\n",
      "order param\n",
      "0.99998474\n",
      "ema loss\n",
      "0.004493974\n",
      "kin\n",
      "28.705385\n",
      "order param\n",
      "0.99998343\n"
     ]
    },
    {
     "name": "stderr",
     "output_type": "stream",
     "text": [
      "\n",
      " 46%|████▋     | 69619/150000 [1:14:57<1:25:26, 15.68it/s]\u001b[A\n",
      " 46%|████▋     | 69621/150000 [1:14:57<1:25:14, 15.72it/s]\u001b[A"
     ]
    },
    {
     "name": "stdout",
     "output_type": "stream",
     "text": [
      "ema loss\n",
      "0.004494534\n",
      "kin\n",
      "28.651854\n",
      "order param\n",
      "0.9999826\n",
      "ema loss\n",
      "0.004491215\n",
      "kin\n",
      "28.65045\n",
      "order param\n",
      "0.99998534\n",
      "ema loss\n",
      "0.0044963895\n",
      "kin\n",
      "28.683403\n",
      "order param\n",
      "0.9999774\n",
      "ema loss\n",
      "0.0044960263\n",
      "kin\n",
      "28.597954\n",
      "order param\n",
      "0.9999827\n"
     ]
    },
    {
     "name": "stderr",
     "output_type": "stream",
     "text": [
      "\n",
      " 46%|████▋     | 69623/150000 [1:14:58<1:25:17, 15.71it/s]\u001b[A\n",
      " 46%|████▋     | 69625/150000 [1:14:58<1:25:34, 15.65it/s]\u001b[A"
     ]
    },
    {
     "name": "stdout",
     "output_type": "stream",
     "text": [
      "ema loss\n",
      "0.0044958284\n",
      "kin\n",
      "28.510109\n",
      "order param\n",
      "0.9999821\n",
      "ema loss\n",
      "0.0044935914\n",
      "kin\n",
      "28.404818\n",
      "order param\n",
      "0.9999844\n",
      "ema loss\n",
      "0.004493926\n",
      "kin\n",
      "28.35476\n",
      "order param\n",
      "0.99998283\n",
      "ema loss\n",
      "0.0044921595\n",
      "kin\n",
      "28.290407\n",
      "order param\n",
      "0.9999842\n"
     ]
    },
    {
     "name": "stderr",
     "output_type": "stream",
     "text": [
      "\n",
      " 46%|████▋     | 69627/150000 [1:14:58<1:24:57, 15.77it/s]\u001b[A\n",
      " 46%|████▋     | 69629/150000 [1:14:58<1:24:41, 15.82it/s]\u001b[A"
     ]
    },
    {
     "name": "stdout",
     "output_type": "stream",
     "text": [
      "ema loss\n",
      "0.004489748\n",
      "kin\n",
      "28.35144\n",
      "order param\n",
      "0.9999844\n",
      "ema loss\n",
      "0.004486446\n",
      "kin\n",
      "28.475311\n",
      "order param\n",
      "0.99998486\n",
      "ema loss\n",
      "0.0044837394\n",
      "kin\n",
      "28.637877\n",
      "order param\n",
      "0.9999845\n",
      "ema loss\n",
      "0.0044824467\n",
      "kin\n",
      "28.724152\n",
      "order param\n",
      "0.99998343\n"
     ]
    },
    {
     "name": "stderr",
     "output_type": "stream",
     "text": [
      "\n",
      " 46%|████▋     | 69631/150000 [1:14:58<1:25:00, 15.76it/s]\u001b[A\n",
      " 46%|████▋     | 69633/150000 [1:14:58<1:24:59, 15.76it/s]\u001b[A"
     ]
    },
    {
     "name": "stdout",
     "output_type": "stream",
     "text": [
      "ema loss\n",
      "0.0044811685\n",
      "kin\n",
      "28.698448\n",
      "order param\n",
      "0.99998313\n",
      "ema loss\n",
      "0.004478071\n",
      "kin\n",
      "28.68997\n",
      "order param\n",
      "0.99998504\n",
      "ema loss\n",
      "0.0044755964\n",
      "kin\n",
      "28.756859\n",
      "order param\n",
      "0.99998474\n",
      "ema loss\n",
      "0.0044759703\n",
      "kin\n",
      "28.868341\n",
      "order param\n",
      "0.99998254\n"
     ]
    },
    {
     "name": "stderr",
     "output_type": "stream",
     "text": [
      "\n",
      " 46%|████▋     | 69635/150000 [1:14:58<1:25:04, 15.74it/s]\u001b[A\n",
      " 46%|████▋     | 69637/150000 [1:14:58<1:25:02, 15.75it/s]\u001b[A"
     ]
    },
    {
     "name": "stdout",
     "output_type": "stream",
     "text": [
      "ema loss\n",
      "0.00447279\n",
      "kin\n",
      "28.993141\n",
      "order param\n",
      "0.9999852\n",
      "ema loss\n",
      "0.0044700652\n",
      "kin\n",
      "29.03672\n",
      "order param\n",
      "0.9999844\n",
      "ema loss\n",
      "0.0044685532\n",
      "kin\n",
      "28.981169\n",
      "order param\n",
      "0.9999833\n",
      "ema loss\n",
      "0.0044677225\n",
      "kin\n",
      "28.892975\n",
      "order param\n",
      "0.99998283\n"
     ]
    },
    {
     "name": "stderr",
     "output_type": "stream",
     "text": [
      "\n",
      " 46%|████▋     | 69639/150000 [1:14:59<1:25:06, 15.74it/s]\u001b[A\n",
      " 46%|████▋     | 69641/150000 [1:14:59<1:25:06, 15.74it/s]\u001b[A"
     ]
    },
    {
     "name": "stdout",
     "output_type": "stream",
     "text": [
      "ema loss\n",
      "0.004465199\n",
      "kin\n",
      "28.830355\n",
      "order param\n",
      "0.9999847\n",
      "ema loss\n",
      "0.0044666133\n",
      "kin\n",
      "28.818611\n",
      "order param\n",
      "0.9999815\n",
      "ema loss\n",
      "0.00446375\n",
      "kin\n",
      "28.857948\n",
      "order param\n",
      "0.9999851\n",
      "ema loss\n",
      "0.0044639553\n",
      "kin\n",
      "28.89289\n",
      "order param\n",
      "0.999982\n"
     ]
    },
    {
     "name": "stderr",
     "output_type": "stream",
     "text": [
      "\n",
      " 46%|████▋     | 69643/150000 [1:14:59<1:24:39, 15.82it/s]\u001b[A\n",
      " 46%|████▋     | 69645/150000 [1:14:59<1:24:37, 15.82it/s]\u001b[A"
     ]
    },
    {
     "name": "stdout",
     "output_type": "stream",
     "text": [
      "ema loss\n",
      "0.004469333\n",
      "kin\n",
      "28.825865\n",
      "order param\n",
      "0.9999775\n",
      "ema loss\n",
      "0.0044686617\n",
      "kin\n",
      "28.608856\n",
      "order param\n",
      "0.99998355\n",
      "ema loss\n",
      "0.004468853\n",
      "kin\n",
      "28.58979\n",
      "order param\n",
      "0.99998283\n",
      "ema loss\n",
      "0.0044692564\n",
      "kin\n",
      "28.714287\n",
      "order param\n",
      "0.99998266\n"
     ]
    },
    {
     "name": "stderr",
     "output_type": "stream",
     "text": [
      "\n",
      " 46%|████▋     | 69647/150000 [1:14:59<1:24:29, 15.85it/s]\u001b[A\n",
      " 46%|████▋     | 69649/150000 [1:14:59<1:24:38, 15.82it/s]\u001b[A"
     ]
    },
    {
     "name": "stdout",
     "output_type": "stream",
     "text": [
      "ema loss\n",
      "0.0044690045\n",
      "kin\n",
      "28.890562\n",
      "order param\n",
      "0.99998283\n",
      "ema loss\n",
      "0.004468541\n",
      "kin\n",
      "28.878807\n",
      "order param\n",
      "0.9999825\n",
      "ema loss\n",
      "0.0044657052\n",
      "kin\n",
      "28.71685\n",
      "order param\n",
      "0.99998426\n",
      "ema loss\n",
      "0.0044632335\n",
      "kin\n",
      "28.527014\n",
      "order param\n",
      "0.9999848\n"
     ]
    },
    {
     "name": "stderr",
     "output_type": "stream",
     "text": [
      "\n",
      " 46%|████▋     | 69651/150000 [1:14:59<1:24:41, 15.81it/s]\u001b[A\n",
      " 46%|████▋     | 69653/150000 [1:14:59<1:25:10, 15.72it/s]\u001b[A"
     ]
    },
    {
     "name": "stdout",
     "output_type": "stream",
     "text": [
      "ema loss\n",
      "0.004469287\n",
      "kin\n",
      "28.412477\n",
      "order param\n",
      "0.99997854\n",
      "ema loss\n",
      "0.004465393\n",
      "kin\n",
      "28.574186\n",
      "order param\n",
      "0.9999857\n",
      "ema loss\n",
      "0.004465939\n",
      "kin\n",
      "28.793879\n",
      "order param\n",
      "0.9999813\n",
      "ema loss\n",
      "0.0044640875\n",
      "kin\n",
      "28.828102\n",
      "order param\n",
      "0.99998385\n"
     ]
    },
    {
     "name": "stderr",
     "output_type": "stream",
     "text": [
      "\n",
      " 46%|████▋     | 69655/150000 [1:15:00<1:24:50, 15.78it/s]\u001b[A\n",
      " 46%|████▋     | 69657/150000 [1:15:00<1:24:35, 15.83it/s]\u001b[A"
     ]
    },
    {
     "name": "stdout",
     "output_type": "stream",
     "text": [
      "ema loss\n",
      "0.004462192\n",
      "kin\n",
      "28.73603\n",
      "order param\n",
      "0.9999843\n",
      "ema loss\n",
      "0.0044619753\n",
      "kin\n",
      "28.572472\n",
      "order param\n",
      "0.9999833\n",
      "ema loss\n",
      "0.0044666966\n",
      "kin\n",
      "28.54937\n",
      "order param\n",
      "0.9999795\n",
      "ema loss\n",
      "0.004463786\n",
      "kin\n",
      "28.761574\n",
      "order param\n",
      "0.9999846\n"
     ]
    },
    {
     "name": "stderr",
     "output_type": "stream",
     "text": [
      "\n",
      " 46%|████▋     | 69659/150000 [1:15:00<1:24:51, 15.78it/s]\u001b[A\n",
      " 46%|████▋     | 69661/150000 [1:15:00<1:24:39, 15.82it/s]\u001b[A"
     ]
    },
    {
     "name": "stdout",
     "output_type": "stream",
     "text": [
      "ema loss\n",
      "0.004461158\n",
      "kin\n",
      "28.97802\n",
      "order param\n",
      "0.9999843\n",
      "ema loss\n",
      "0.004460105\n",
      "kin\n",
      "29.066282\n",
      "order param\n",
      "0.9999831\n",
      "ema loss\n",
      "0.0044609113\n",
      "kin\n",
      "29.040434\n",
      "order param\n",
      "0.99998105\n",
      "ema loss\n",
      "0.0044628046\n",
      "kin\n",
      "28.854738\n",
      "order param\n",
      "0.9999809\n"
     ]
    },
    {
     "name": "stderr",
     "output_type": "stream",
     "text": [
      "\n",
      " 46%|████▋     | 69663/150000 [1:15:00<1:25:26, 15.67it/s]\u001b[A\n",
      " 46%|████▋     | 69665/150000 [1:15:00<1:25:21, 15.69it/s]\u001b[A"
     ]
    },
    {
     "name": "stdout",
     "output_type": "stream",
     "text": [
      "ema loss\n",
      "0.0044631916\n",
      "kin\n",
      "28.630424\n",
      "order param\n",
      "0.9999828\n",
      "ema loss\n",
      "0.004461765\n",
      "kin\n",
      "28.609224\n",
      "order param\n",
      "0.9999843\n",
      "ema loss\n",
      "0.004468762\n",
      "kin\n",
      "28.75363\n",
      "order param\n",
      "0.99997646\n",
      "ema loss\n",
      "0.004467139\n",
      "kin\n",
      "28.844414\n",
      "order param\n",
      "0.9999838\n"
     ]
    },
    {
     "name": "stderr",
     "output_type": "stream",
     "text": [
      "\n",
      " 46%|████▋     | 69667/150000 [1:15:00<1:25:03, 15.74it/s]\u001b[A\n",
      " 46%|████▋     | 69669/150000 [1:15:00<1:24:51, 15.78it/s]\u001b[A"
     ]
    },
    {
     "name": "stdout",
     "output_type": "stream",
     "text": [
      "ema loss\n",
      "0.0044696582\n",
      "kin\n",
      "28.766146\n",
      "order param\n",
      "0.99998075\n",
      "ema loss\n",
      "0.004470488\n",
      "kin\n",
      "28.540194\n",
      "order param\n",
      "0.9999821\n",
      "ema loss\n",
      "0.0044778856\n",
      "kin\n",
      "28.375368\n",
      "order param\n",
      "0.99997604\n",
      "ema loss\n",
      "0.004478004\n",
      "kin\n",
      "28.171333\n",
      "order param\n",
      "0.99998236\n"
     ]
    },
    {
     "name": "stderr",
     "output_type": "stream",
     "text": [
      "\n",
      " 46%|████▋     | 69671/150000 [1:15:01<1:25:24, 15.68it/s]\u001b[A\n",
      " 46%|████▋     | 69673/150000 [1:15:01<1:24:57, 15.76it/s]\u001b[A"
     ]
    },
    {
     "name": "stdout",
     "output_type": "stream",
     "text": [
      "ema loss\n",
      "0.0044805696\n",
      "kin\n",
      "28.122225\n",
      "order param\n",
      "0.9999803\n",
      "ema loss\n",
      "0.00447945\n",
      "kin\n",
      "28.061699\n",
      "order param\n",
      "0.99998367\n",
      "ema loss\n",
      "0.0044875084\n",
      "kin\n",
      "28.04845\n",
      "order param\n",
      "0.99997663\n",
      "ema loss\n",
      "0.0044898004\n",
      "kin\n",
      "27.933687\n",
      "order param\n",
      "0.99998116\n"
     ]
    },
    {
     "name": "stderr",
     "output_type": "stream",
     "text": [
      "\n",
      " 46%|████▋     | 69675/150000 [1:15:01<1:25:36, 15.64it/s]\u001b[A\n",
      " 46%|████▋     | 69677/150000 [1:15:01<1:25:31, 15.65it/s]\u001b[A"
     ]
    },
    {
     "name": "stdout",
     "output_type": "stream",
     "text": [
      "ema loss\n",
      "0.0044921\n",
      "kin\n",
      "27.810051\n",
      "order param\n",
      "0.99998105\n",
      "ema loss\n",
      "0.004499897\n",
      "kin\n",
      "27.928967\n",
      "order param\n",
      "0.99997634\n",
      "ema loss\n",
      "0.0044992142\n",
      "kin\n",
      "28.141792\n",
      "order param\n",
      "0.9999827\n",
      "ema loss\n",
      "0.0044978973\n",
      "kin\n",
      "28.188934\n",
      "order param\n",
      "0.9999831\n"
     ]
    },
    {
     "name": "stderr",
     "output_type": "stream",
     "text": [
      "\n",
      " 46%|████▋     | 69679/150000 [1:15:01<1:25:45, 15.61it/s]\u001b[A\n",
      " 46%|████▋     | 69681/150000 [1:15:01<1:25:47, 15.60it/s]\u001b[A"
     ]
    },
    {
     "name": "stdout",
     "output_type": "stream",
     "text": [
      "ema loss\n",
      "0.004498432\n",
      "kin\n",
      "28.12375\n",
      "order param\n",
      "0.999982\n",
      "ema loss\n",
      "0.0044969865\n",
      "kin\n",
      "28.00605\n",
      "order param\n",
      "0.99998343\n",
      "ema loss\n",
      "0.004495147\n",
      "kin\n",
      "27.986961\n",
      "order param\n",
      "0.99998385\n",
      "ema loss\n",
      "0.0044964734\n",
      "kin\n",
      "28.03075\n",
      "order param\n",
      "0.99998116\n"
     ]
    },
    {
     "name": "stderr",
     "output_type": "stream",
     "text": [
      "\n",
      " 46%|████▋     | 69683/150000 [1:15:01<1:26:07, 15.54it/s]\u001b[A\n",
      " 46%|████▋     | 69685/150000 [1:15:02<1:25:47, 15.60it/s]\u001b[A"
     ]
    },
    {
     "name": "stdout",
     "output_type": "stream",
     "text": [
      "ema loss\n",
      "0.004493544\n",
      "kin\n",
      "28.172304\n",
      "order param\n",
      "0.99998474\n",
      "ema loss\n",
      "0.004489464\n",
      "kin\n",
      "28.379158\n",
      "order param\n",
      "0.9999855\n",
      "ema loss\n",
      "0.0044856975\n",
      "kin\n",
      "28.543882\n",
      "order param\n",
      "0.9999851\n",
      "ema loss\n",
      "0.0044842777\n",
      "kin\n",
      "28.633026\n",
      "order param\n",
      "0.9999835\n"
     ]
    },
    {
     "name": "stderr",
     "output_type": "stream",
     "text": [
      "\n",
      " 46%|████▋     | 69687/150000 [1:15:02<1:25:41, 15.62it/s]\u001b[A\n",
      " 46%|████▋     | 69689/150000 [1:15:02<1:25:56, 15.57it/s]\u001b[A"
     ]
    },
    {
     "name": "stdout",
     "output_type": "stream",
     "text": [
      "ema loss\n",
      "0.00448373\n",
      "kin\n",
      "28.68744\n",
      "order param\n",
      "0.99998313\n",
      "ema loss\n",
      "0.0044825017\n",
      "kin\n",
      "28.706123\n",
      "order param\n",
      "0.9999832\n",
      "ema loss\n",
      "0.0044814493\n",
      "kin\n",
      "28.702269\n",
      "order param\n",
      "0.99998295\n",
      "ema loss\n",
      "0.0044854893\n",
      "kin\n",
      "28.671324\n",
      "order param\n",
      "0.99997854\n"
     ]
    },
    {
     "name": "stderr",
     "output_type": "stream",
     "text": [
      "\n",
      " 46%|████▋     | 69691/150000 [1:15:02<1:26:25, 15.49it/s]\u001b[A\n",
      " 46%|████▋     | 69693/150000 [1:15:02<1:25:58, 15.57it/s]\u001b[A"
     ]
    },
    {
     "name": "stdout",
     "output_type": "stream",
     "text": [
      "ema loss\n",
      "0.0044830465\n",
      "kin\n",
      "28.59482\n",
      "order param\n",
      "0.9999845\n",
      "ema loss\n",
      "0.0044859094\n",
      "kin\n",
      "28.56064\n",
      "order param\n",
      "0.99998045\n",
      "ema loss\n",
      "0.0044939998\n",
      "kin\n",
      "28.555628\n",
      "order param\n",
      "0.99997634\n",
      "ema loss\n",
      "0.0044911616\n",
      "kin\n",
      "28.429638\n",
      "order param\n",
      "0.999985\n"
     ]
    },
    {
     "name": "stderr",
     "output_type": "stream",
     "text": [
      "\n",
      " 46%|████▋     | 69695/150000 [1:15:02<1:25:25, 15.67it/s]\u001b[A\n",
      " 46%|████▋     | 69697/150000 [1:15:02<1:24:49, 15.78it/s]\u001b[A"
     ]
    },
    {
     "name": "stdout",
     "output_type": "stream",
     "text": [
      "ema loss\n",
      "0.0044961283\n",
      "kin\n",
      "28.294035\n",
      "order param\n",
      "0.9999778\n",
      "ema loss\n",
      "0.004499772\n",
      "kin\n",
      "28.10794\n",
      "order param\n",
      "0.99997926\n",
      "ema loss\n",
      "0.0044994084\n",
      "kin\n",
      "28.01608\n",
      "order param\n",
      "0.9999824\n",
      "ema loss\n",
      "0.0044986103\n",
      "kin\n",
      "28.023317\n",
      "order param\n",
      "0.9999832\n"
     ]
    },
    {
     "name": "stderr",
     "output_type": "stream",
     "text": [
      "\n",
      " 46%|████▋     | 69699/150000 [1:15:02<1:24:47, 15.79it/s]\u001b[A\n",
      " 46%|████▋     | 69701/150000 [1:15:03<1:24:57, 15.75it/s]\u001b[A"
     ]
    },
    {
     "name": "stdout",
     "output_type": "stream",
     "text": [
      "ema loss\n",
      "0.0045081545\n",
      "kin\n",
      "28.080772\n",
      "order param\n",
      "0.9999752\n",
      "ema loss\n",
      "0.004508511\n",
      "kin\n",
      "28.030058\n",
      "order param\n",
      "0.9999823\n",
      "ema loss\n",
      "0.0045100823\n",
      "kin\n",
      "27.921877\n",
      "order param\n",
      "0.9999809\n",
      "ema loss\n",
      "0.0045112926\n",
      "kin\n",
      "27.80183\n",
      "order param\n",
      "0.99998134\n"
     ]
    },
    {
     "name": "stderr",
     "output_type": "stream",
     "text": [
      "\n",
      " 46%|████▋     | 69703/150000 [1:15:03<1:25:01, 15.74it/s]\u001b[A\n",
      " 46%|████▋     | 69705/150000 [1:15:03<1:25:17, 15.69it/s]\u001b[A"
     ]
    },
    {
     "name": "stdout",
     "output_type": "stream",
     "text": [
      "ema loss\n",
      "0.004510185\n",
      "kin\n",
      "27.643333\n",
      "order param\n",
      "0.99998367\n",
      "ema loss\n",
      "0.0045090797\n",
      "kin\n",
      "27.691011\n",
      "order param\n",
      "0.9999836\n",
      "ema loss\n",
      "0.004510779\n",
      "kin\n",
      "27.94225\n",
      "order param\n",
      "0.99998045\n",
      "ema loss\n",
      "0.0045092213\n",
      "kin\n",
      "28.090874\n",
      "order param\n",
      "0.9999832\n"
     ]
    },
    {
     "name": "stderr",
     "output_type": "stream",
     "text": [
      "\n",
      " 46%|████▋     | 69707/150000 [1:15:03<1:25:32, 15.65it/s]\u001b[A\n",
      " 46%|████▋     | 69709/150000 [1:15:03<1:24:44, 15.79it/s]\u001b[A"
     ]
    },
    {
     "name": "stdout",
     "output_type": "stream",
     "text": [
      "ema loss\n",
      "0.0045063323\n",
      "kin\n",
      "28.187706\n",
      "order param\n",
      "0.9999844\n",
      "ema loss\n",
      "0.004505755\n",
      "kin\n",
      "28.16852\n",
      "order param\n",
      "0.99998343\n",
      "ema loss\n",
      "0.0045051132\n",
      "kin\n",
      "28.13987\n",
      "order param\n",
      "0.99998367\n",
      "ema loss\n",
      "0.0045040287\n",
      "kin\n",
      "28.22922\n",
      "order param\n",
      "0.9999838\n"
     ]
    },
    {
     "name": "stderr",
     "output_type": "stream",
     "text": [
      "\n",
      " 46%|████▋     | 69711/150000 [1:15:03<1:24:25, 15.85it/s]\u001b[A\n",
      " 46%|████▋     | 69713/150000 [1:15:03<1:24:16, 15.88it/s]\u001b[A"
     ]
    },
    {
     "name": "stdout",
     "output_type": "stream",
     "text": [
      "ema loss\n",
      "0.0045042136\n",
      "kin\n",
      "28.361198\n",
      "order param\n",
      "0.9999821\n",
      "ema loss\n",
      "0.004504815\n",
      "kin\n",
      "28.486452\n",
      "order param\n",
      "0.99998176\n",
      "ema loss\n",
      "0.0045036394\n",
      "kin\n",
      "28.411833\n",
      "order param\n",
      "0.9999833\n",
      "ema loss\n",
      "0.0045033656\n",
      "kin\n",
      "28.377586\n",
      "order param\n",
      "0.9999827\n"
     ]
    },
    {
     "name": "stderr",
     "output_type": "stream",
     "text": [
      "\n",
      " 46%|████▋     | 69715/150000 [1:15:03<1:24:32, 15.83it/s]\u001b[A\n",
      " 46%|████▋     | 69717/150000 [1:15:04<1:24:54, 15.76it/s]\u001b[A"
     ]
    },
    {
     "name": "stdout",
     "output_type": "stream",
     "text": [
      "ema loss\n",
      "0.004498734\n",
      "kin\n",
      "28.365913\n",
      "order param\n",
      "0.9999861\n",
      "ema loss\n",
      "0.00449529\n",
      "kin\n",
      "28.384266\n",
      "order param\n",
      "0.99998534\n",
      "ema loss\n",
      "0.004494328\n",
      "kin\n",
      "28.395815\n",
      "order param\n",
      "0.999983\n",
      "ema loss\n",
      "0.0044928193\n",
      "kin\n",
      "28.335316\n",
      "order param\n",
      "0.99998415\n"
     ]
    },
    {
     "name": "stderr",
     "output_type": "stream",
     "text": [
      "\n",
      " 46%|████▋     | 69719/150000 [1:15:04<1:25:12, 15.70it/s]\u001b[A\n",
      " 46%|████▋     | 69721/150000 [1:15:04<1:25:38, 15.62it/s]\u001b[A"
     ]
    },
    {
     "name": "stdout",
     "output_type": "stream",
     "text": [
      "ema loss\n",
      "0.0044895275\n",
      "kin\n",
      "28.23828\n",
      "order param\n",
      "0.9999855\n",
      "ema loss\n",
      "0.0044863694\n",
      "kin\n",
      "28.28788\n",
      "order param\n",
      "0.9999853\n",
      "ema loss\n",
      "0.004484467\n",
      "kin\n",
      "28.425901\n",
      "order param\n",
      "0.99998367\n",
      "ema loss\n",
      "0.00448479\n",
      "kin\n",
      "28.460625\n",
      "order param\n",
      "0.9999817\n"
     ]
    },
    {
     "name": "stderr",
     "output_type": "stream",
     "text": [
      "\n",
      " 46%|████▋     | 69723/150000 [1:15:04<1:25:10, 15.71it/s]\u001b[A\n",
      " 46%|████▋     | 69725/150000 [1:15:04<1:24:36, 15.81it/s]\u001b[A"
     ]
    },
    {
     "name": "stdout",
     "output_type": "stream",
     "text": [
      "ema loss\n",
      "0.0044843517\n",
      "kin\n",
      "28.440605\n",
      "order param\n",
      "0.9999826\n",
      "ema loss\n",
      "0.004481568\n",
      "kin\n",
      "28.421318\n",
      "order param\n",
      "0.99998486\n",
      "ema loss\n",
      "0.0044797794\n",
      "kin\n",
      "28.42288\n",
      "order param\n",
      "0.9999839\n",
      "ema loss\n",
      "0.0044785934\n",
      "kin\n",
      "28.418861\n",
      "order param\n",
      "0.9999833\n"
     ]
    }
   ],
   "source": [
    "saved_global_loss=[]\n",
    "saved_global_kin=[]\n",
    "saved_global_emaloss=[]\n",
    "saved_global_emakin=[]\n",
    "saved_global_orparam=[]\n",
    "for glob in tqdm(range(0,5)):\n",
    "    seed=5679\n",
    "    key = jr.PRNGKey(seed)\n",
    "    strategy=\"vector\"\n",
    "    \n",
    "    generator=NeuralSDEKuramoto(\n",
    "            data_size,\n",
    "            hidden_size,\n",
    "            width_size,\n",
    "            depth,\n",
    "            strategy,\n",
    "            key=key\n",
    "        )\n",
    "    \n",
    "    tot_iter=150000\n",
    "    losses, grads = loss(generator)\n",
    "    kin= loss_kin(generator)\n",
    "    learning_rate=0.00003*(2**glob)\n",
    "    \n",
    "    #adam optimizer\n",
    "    b1=0.9\n",
    "    b2=0.999\n",
    "    eps=1e-08\n",
    "    optim = optax.adam(learning_rate, b1=b1, b2=b2, eps=0, eps_root=eps)\n",
    "    \n",
    "    opt_state = optim.init(eqx.filter(generator, eqx.is_inexact_array))\n",
    "    \n",
    "    \n",
    "    #save costs and energy\n",
    "    saved_loss=[]\n",
    "    saved_kin=[]\n",
    "    #save directional derivatives\n",
    "    saved_product1=[]\n",
    "    saved_product2=[]\n",
    "    saved_ema_loss=[]\n",
    "    saved_ema_kin=[]\n",
    "    saved_orparam=[]\n",
    "    ini_key=jr.PRNGKey(seed)\n",
    "    key= jr.split(key, 1)[0]\n",
    "    alpha=0.995\n",
    "    \n",
    "    counter=jnp.int32(0)\n",
    "    tsss = jnp.repeat(tss, repeats=batch_size, axis=0)\n",
    "    \n",
    "    score=10000000\n",
    "    epochs=[]\n",
    "    ema_loss=0\n",
    "    ema_kin=0\n",
    "    for k in tqdm(range(0,tot_iter)):\n",
    "       \n",
    "        key= jr.split(key, 1)[0]\n",
    "       \n",
    "        y0 = jr.normal(key, shape=(batch_size, data_size)) / scale_kin\n",
    "   \n",
    "        y00=jnp.concatenate([y0,jnp.zeros((batch_size,1))], axis=1)\n",
    "        #run optimization steps, evaluate the cost and energy, directional derivatives\n",
    "        generator, opt_state, grads, losses, kin,  counter, orparam= make_step(generator, batch_size, tsss, key, opt_state, y0, counter, optim)\n",
    "        \n",
    "        if k==0:\n",
    "            ema_loss=losses\n",
    "            ema_kin = kin\n",
    "        else:\n",
    "            ema_loss=ema_loss*alpha+losses*(1-alpha)\n",
    "            ema_kin=ema_kin*alpha+kin*(1-alpha)\n",
    "            \n",
    "        if ema_loss<score:\n",
    "            score=ema_loss\n",
    "    \n",
    "        print(\"ema loss\")\n",
    "        print(ema_loss)\n",
    "        print(\"kin\")\n",
    "        print(kin)\n",
    "        print(\"order param\")\n",
    "        print(orparam)\n",
    "        saved_loss.append(jax.device_get(losses))\n",
    "        saved_kin.append(jax.device_get(kin))\n",
    "        saved_ema_loss.append(jax.device_get(ema_loss))\n",
    "        saved_ema_kin.append(jax.device_get(ema_kin))\n",
    "        saved_orparam.append(jax.device_get(orparam))\n",
    "    \n",
    "        if k%500==0:\n",
    "            gc.collect()\n",
    "            clear_output(wait=True)\n",
    "            \n",
    "        if jnp.linalg.norm(ema_loss)<1e-06:\n",
    "            break\n",
    "        del grads, losses, kin\n",
    "        \n",
    "    saved_global_loss.append(saved_loss)\n",
    "    saved_global_kin.append(saved_kin)\n",
    "    saved_global_emaloss.append(saved_ema_loss)\n",
    "    saved_global_emakin.append(saved_ema_kin)\n",
    "    saved_global_orparam.append(saved_orparam)"
   ]
  },
  {
   "cell_type": "code",
   "execution_count": 143,
   "id": "2096848f-3abe-4c42-a5a2-0aab6afaed9a",
   "metadata": {},
   "outputs": [
    {
     "name": "stdout",
     "output_type": "stream",
     "text": [
      "Stored 'saved_global_emaloss' (list)\n",
      "Stored 'saved_global_emakin' (list)\n",
      "Stored 'saved_global_orparam' (list)\n"
     ]
    }
   ],
   "source": [
    "%store saved_global_emaloss\n",
    "%store saved_global_emakin\n",
    "%store saved_global_orparam"
   ]
  },
  {
   "cell_type": "code",
   "execution_count": 73,
   "id": "1d1d49ef-109b-4530-bbbd-276c36e9aeeb",
   "metadata": {},
   "outputs": [
    {
     "data": {
      "image/png": "[encoded data removed]",
      "text/plain": [
       "<Figure size 640x480 with 1 Axes>"
      ]
     },
     "metadata": {},
     "output_type": "display_data"
    }
   ],
   "source": [
    "plt.plot(1-smoothed_loss1, label=\"$h=2^{-15}$\",c='orange')\n",
    "plt.yscale('log')\n",
    "plt.xscale('log')"
   ]
  },
  {
   "cell_type": "code",
   "execution_count": 81,
   "id": "75e1bd5c-a1ea-47f3-89eb-6b70b19b6b29",
   "metadata": {},
   "outputs": [],
   "source": [
    "from scipy.signal import savgol_filter \n",
    "smoothed_loss1 = savgol_filter(np.array(saved_global_orparam[0]), window_length=51, polyorder=2)\n",
    "smoothed_loss2 = savgol_filter(np.array(saved_global_orparam[1]), window_length=51, polyorder=2)\n",
    "smoothed_loss3 = savgol_filter(np.array(saved_global_orparam[2]), window_length=51, polyorder=2)\n",
    "smoothed_loss4 = savgol_filter(np.array(saved_global_orparam[3]), window_length=51, polyorder=2)"
   ]
  },
  {
   "cell_type": "code",
   "execution_count": 139,
   "id": "17d4d927-8133-4d7d-a511-b30de4bb1de8",
   "metadata": {},
   "outputs": [
    {
     "data": {
      "image/png": "[encoded data removed]",
      "text/plain": [
       "<Figure size 400x300 with 1 Axes>"
      ]
     },
     "metadata": {},
     "output_type": "display_data"
    }
   ],
   "source": [
    "plt.figure(figsize=(4, 3))\n",
    "plt.plot(1-smoothed_loss1, label=\"$h=2^{-15}$\",c='orange')\n",
    "plt.plot(1-smoothed_loss2, label=\"$h=2^{-14}$\", c='green')\n",
    "plt.plot(1-smoothed_loss3, label=\"$h=2^{-13}$\", c='red')\n",
    "plt.plot(1-smoothed_loss4, label=\"$h=2^{-12}$\", c='black')\n",
    "\n",
    "#plt.plot(saved_global_loss[4])\n",
    "plt.ylabel('$1-r$', fontsize=10)\n",
    "plt.xlabel('Epochs', fontsize=10)\n",
    "plt.yscale('log')\n",
    "plt.xscale('log')\n",
    "plt.xticks(fontsize=10)\n",
    "plt.yticks(fontsize=10)\n",
    "plt.title(\"Order Parameter by Learning Rate\", fontsize=10)\n",
    "plt.legend\n",
    "plt.grid(True)\n",
    "plt.savefig(\"orderparam_learning.pdf\", format=\"pdf\", bbox_inches='tight', pad_inches=0)\n",
    "plt.show()"
   ]
  },
  {
   "cell_type": "code",
   "execution_count": 131,
   "id": "092bb230-7050-424d-8f53-0909483522ea",
   "metadata": {},
   "outputs": [
    {
     "data": {
      "image/png": "[encoded data removed]",
      "text/plain": [
       "<Figure size 400x300 with 1 Axes>"
      ]
     },
     "metadata": {},
     "output_type": "display_data"
    }
   ],
   "source": [
    "plt.figure(figsize=(4, 3))\n",
    "plt.plot(saved_global_emaloss[0], label=\"$h=2^{-15}$\",c='orange')\n",
    "plt.plot(saved_global_emaloss[1], label=\"$h=2^{-14}$\", c='green')\n",
    "plt.plot(saved_global_emaloss[2], label=\"$h=2^{-13}$\", c='red')\n",
    "plt.plot(saved_global_emaloss[3], label=\"$h=2^{-12}$\", c='black')\n",
    "\n",
    "#plt.plot(saved_global_loss[4])\n",
    "plt.ylabel('Value', fontsize=10)\n",
    "plt.xlabel('Epochs', fontsize=10)\n",
    "plt.yscale('log')\n",
    "plt.xscale('log')\n",
    "plt.xticks(fontsize=10)\n",
    "plt.yticks(fontsize=10)\n",
    "plt.legend(fontsize=10)\n",
    "plt.title(\"Loss by Learning Rate\", fontsize=10)\n",
    "plt.grid(True)\n",
    "plt.savefig(\"kuramoto_finalcost.pdf\", format=\"pdf\", bbox_inches='tight', pad_inches=0)\n",
    "plt.show()"
   ]
  },
  {
   "cell_type": "code",
   "execution_count": 141,
   "id": "13e3aa9c-667c-43a5-999d-ab30037646f7",
   "metadata": {},
   "outputs": [
    {
     "data": {
      "image/png": "[encoded data removed]",
      "text/plain": [
       "<Figure size 400x300 with 1 Axes>"
      ]
     },
     "metadata": {},
     "output_type": "display_data"
    }
   ],
   "source": [
    "plt.figure(figsize=(4, 3))\n",
    "plt.plot(np.array(saved_global_emakin[0])/25, label=\"$h=2^{-15}$\",c='orange')\n",
    "plt.plot(np.array(saved_global_emakin[1])/25,label=\"$h=2^{-14}$\", c='green')\n",
    "plt.plot(np.array(saved_global_emakin[2])/25,label=\"$h=2^{-13}$\", c='red')\n",
    "plt.plot(np.array(saved_global_emakin[3])/25, label=\"$h=2^{-12}$\", c='black')\n",
    "plt.ylabel('Value per dim', fontsize=10)\n",
    "plt.xlabel('Epochs', fontsize=10)\n",
    "plt.xscale('log')\n",
    "plt.title(\"Energy by Learning Rate\", fontsize=10)\n",
    "plt.xticks(fontsize=10)\n",
    "plt.yticks(fontsize=10)\n",
    "plt.legend\n",
    "plt.grid(True)\n",
    "plt.savefig(\"kuramoto_energy.pdf\", format=\"pdf\", bbox_inches='tight', pad_inches=0)\n",
    "plt.show()"
   ]
  },
  {
   "cell_type": "code",
   "execution_count": 53,
   "id": "5d8fae69-6579-42b6-8bea-5b15cec0712e",
   "metadata": {},
   "outputs": [
    {
     "data": {
      "image/png": "[encoded data removed]",
      "text/plain": [
       "<Figure size 640x480 with 1 Axes>"
      ]
     },
     "metadata": {},
     "output_type": "display_data"
    }
   ],
   "source": [
    "plt.plot(saved_global_loss[0])\n",
    "plt.plot(saved_global_loss[1])\n",
    "plt.plot(saved_global_loss[2])\n",
    "plt.yscale('log')"
   ]
  },
  {
   "cell_type": "code",
   "execution_count": 95,
   "id": "943ea086-cd4c-46fc-b0c6-0152a6d0817a",
   "metadata": {},
   "outputs": [
    {
     "name": "stdout",
     "output_type": "stream",
     "text": [
      "[ 424.37921143  424.29354858  424.30758667 ... -793.93450928 -909.10620117\n",
      " -560.12597656]\n"
     ]
    }
   ],
   "source": [
    "def forward_moving_average(arr, window_size):\n",
    "    \"\"\"\n",
    "    Smooths a 1D NumPy array using a forward-looking moving average.\n",
    "    \n",
    "    Args:\n",
    "        arr: Input 1D NumPy array\n",
    "        window_size: Size of the forward-looking window\n",
    "    \n",
    "    Returns:\n",
    "        Smoothed NumPy array of the same length\n",
    "    \"\"\"\n",
    "    n = len(arr)\n",
    "    smoothed = np.zeros(n)\n",
    "    \n",
    "    for i in range(n):\n",
    "        # Take the mean of the current and future elements within the window\n",
    "        end_idx = min(i + window_size, n)\n",
    "        smoothed[i] = np.mean(arr[i:end_idx])\n",
    "    \n",
    "    return smoothed\n",
    "\n",
    "# Example usage\n",
    "arr = np.array([1.0, 2.0, 3.0, 4.0, 5.0, 6.0])\n",
    "window_size = 15500\n",
    "smoothed_arr = forward_moving_average(np.stack(saved_product2), window_size)\n",
    "print(smoothed_arr)"
   ]
  },
  {
   "cell_type": "code",
   "execution_count": 9,
   "id": "6f81a2df-cd93-45fd-89cb-c9bb6d57eed8",
   "metadata": {},
   "outputs": [],
   "source": [
    "seed=5679\n",
    "key = jr.PRNGKey(seed)\n"
   ]
  },
  {
   "cell_type": "code",
   "execution_count": 17,
   "id": "0e3d42b2-999e-49a7-93ec-9992ca730293",
   "metadata": {},
   "outputs": [
    {
     "ename": "AttributeError",
     "evalue": "'numpy.random._generator.Generator' object has no attribute 'randn'",
     "output_type": "error",
     "traceback": [
      "\u001b[0;31m---------------------------------------------------------------------------\u001b[0m",
      "\u001b[0;31mAttributeError\u001b[0m                            Traceback (most recent call last)",
      "Cell \u001b[0;32mIn[17], line 2\u001b[0m\n\u001b[1;32m      1\u001b[0m rng \u001b[38;5;241m=\u001b[39m np\u001b[38;5;241m.\u001b[39mrandom\u001b[38;5;241m.\u001b[39mdefault_rng(seed\u001b[38;5;241m=\u001b[39m\u001b[38;5;28mint\u001b[39m(key[\u001b[38;5;241m1\u001b[39m]))\n\u001b[0;32m----> 2\u001b[0m y0\u001b[38;5;241m=\u001b[39mrng\u001b[38;5;241m.\u001b[39mrandn(batch_size,data_size)\u001b[38;5;241m/\u001b[39mscale_kin\n",
      "\u001b[0;31mAttributeError\u001b[0m: 'numpy.random._generator.Generator' object has no attribute 'randn'"
     ]
    }
   ],
   "source": [
    "rng = np.random.default_rng(seed=int(key[1]))\n",
    "y0=rng.randn(batch_size,data_size)/scale_kin "
   ]
  },
  {
   "cell_type": "code",
   "execution_count": 28,
   "id": "764c8ad2-f20a-43e2-89d1-ffe13ef70a8e",
   "metadata": {},
   "outputs": [],
   "source": [
    "saved_product1_00001=saved_product1\n",
    "saved_product2_00001=saved_product2"
   ]
  },
  {
   "cell_type": "code",
   "execution_count": 20,
   "id": "b5e310ec-4f6a-4509-a362-afa9b72bcc49",
   "metadata": {},
   "outputs": [
    {
     "data": {
      "text/plain": [
       "[<matplotlib.lines.Line2D at 0x74bbe8dd7980>]"
      ]
     },
     "execution_count": 20,
     "metadata": {},
     "output_type": "execute_result"
    },
    {
     "data": {
      "image/png": "[encoded data removed]",
      "text/plain": [
       "<Figure size 640x480 with 1 Axes>"
      ]
     },
     "metadata": {},
     "output_type": "display_data"
    }
   ],
   "source": [
    "plt.plot(saved_product1)"
   ]
  },
  {
   "cell_type": "code",
   "execution_count": 40,
   "id": "ed9c4945-4c15-4817-86eb-0a04fdf3841f",
   "metadata": {},
   "outputs": [
    {
     "name": "stdout",
     "output_type": "stream",
     "text": [
      "[10.124221 10.124221 10.124221 10.124221 10.124221 10.124221 10.124221\n",
      " 10.124221 10.124221 10.124221]\n"
     ]
    }
   ],
   "source": [
    "import jax\n",
    "import jax.numpy as jnp\n",
    "from diffrax import diffeqsolve, ODETerm, Tsit5\n",
    "\n",
    "def vector_field(t, y, args):\n",
    "    prey, predator = y\n",
    "    α, β, γ, δ = args\n",
    "    d_prey = α * prey - β * prey * predator\n",
    "    d_predator = -γ * predator + δ * prey * predator\n",
    "    d_y = d_prey, d_predator\n",
    "    return d_y\n",
    "\n",
    "@jax.jit\n",
    "def single_run(y0):\n",
    "    term = ODETerm(vector_field)\n",
    "    solver = Tsit5(scan_kind=\"bounded\")\n",
    "    t0 = 0\n",
    "    t1 = 140\n",
    "    dt0 = 0.1\n",
    "    args = (0.1, 0.02, 0.4, 0.02)\n",
    "    sol = diffeqsolve(term, solver, t0, t1, dt0, y0, args=args)\n",
    "    ((prey,), _) = sol.ys  # Extract final prey value\n",
    "    return prey\n",
    "\n",
    "# Vectorize over y0\n",
    "batched_run = jax.vmap(single_run, in_axes=((0, 0),))  # Batch over both elements of y0 tuple\n",
    "\n",
    "# Hessian for batched inputs (optional, if needed)\n",
    "batched_hessian_run = jax.jit(jax.vmap(jax.hessian(single_run), in_axes=((0, 0),)))\n",
    "\n",
    "# Example usage\n",
    "batch_size = 10\n",
    "y0_batched = (jnp.linspace(10.0, 10.0, batch_size), jnp.linspace(10.0, 10.0, batch_size))  # Shape: (batch_size,), (batch_size,)\n",
    "results = batched_run(y0_batched)  # Shape: (batch_size,)\n",
    "print(results)\n",
    "\n",
    "# If Hessian is needed\n",
    "hessians = batched_hessian_run(y0_batched)  # Shape: (batch_size, 2, 2)\n"
   ]
  },
  {
   "cell_type": "code",
   "execution_count": 42,
   "id": "184b4ebe-f885-4110-b3c7-0f7adaabcc6c",
   "metadata": {},
   "outputs": [
    {
     "data": {
      "text/plain": [
       "((Array([3.9129772, 3.9129772, 3.9129772, 3.9129772, 3.9129772, 3.9129772,\n",
       "         3.9129772, 3.9129772, 3.9129772, 3.9129772], dtype=float32),\n",
       "  Array([-2.3747816, -2.3747816, -2.3747816, -2.3747816, -2.3747816,\n",
       "         -2.3747816, -2.3747816, -2.3747816, -2.3747816, -2.3747816],      dtype=float32)),\n",
       " (Array([-2.3747766, -2.3747766, -2.3747766, -2.3747766, -2.3747766,\n",
       "         -2.3747766, -2.3747766, -2.3747766, -2.3747766, -2.3747766],      dtype=float32),\n",
       "  Array([1.6884141, 1.6884141, 1.6884141, 1.6884141, 1.6884141, 1.6884141,\n",
       "         1.6884141, 1.6884141, 1.6884141, 1.6884141], dtype=float32)))"
      ]
     },
     "execution_count": 42,
     "metadata": {},
     "output_type": "execute_result"
    }
   ],
   "source": [
    "hessians"
   ]
  },
  {
   "cell_type": "code",
   "execution_count": 111,
   "id": "429deab9-335a-4d04-930f-f5a61da57bbe",
   "metadata": {},
   "outputs": [
    {
     "data": {
      "text/plain": [
       "(Array([ 5.       ,  6.111111 ,  7.2222223,  8.333333 ,  9.444445 ,\n",
       "        10.555555 , 11.666666 , 12.777777 , 13.888888 , 15.       ],      dtype=float32),\n",
       " Array([ 5.       ,  6.111111 ,  7.2222223,  8.333333 ,  9.444445 ,\n",
       "        10.555555 , 11.666666 , 12.777777 , 13.888888 , 15.       ],      dtype=float32))"
      ]
     },
     "execution_count": 111,
     "metadata": {},
     "output_type": "execute_result"
    }
   ],
   "source": [
    "y0_batched"
   ]
  },
  {
   "cell_type": "code",
   "execution_count": null,
   "id": "fdf31285-4706-4c84-8e62-79e3615e029e",
   "metadata": {},
   "outputs": [],
   "source": []
  }
 ],
 "metadata": {
  "kernelspec": {
   "display_name": "Python 3 (ipykernel)",
   "language": "python",
   "name": "python3"
  },
  "language_info": {
   "codemirror_mode": {
    "name": "ipython",
    "version": 3
   },
   "file_extension": ".py",
   "mimetype": "text/x-python",
   "name": "python",
   "nbconvert_exporter": "python",
   "pygments_lexer": "ipython3",
   "version": "3.12.4"
  }
 },
 "nbformat": 4,
 "nbformat_minor": 5
}
