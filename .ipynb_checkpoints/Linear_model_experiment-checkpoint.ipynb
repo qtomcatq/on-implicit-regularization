{
 "cells": [
  {
   "cell_type": "code",
   "execution_count": 2,
   "id": "0c751baf-5562-4ceb-81ed-3fb8c152f57f",
   "metadata": {},
   "outputs": [],
   "source": [
    "\n",
    "from typing import Union\n",
    "import pdb\n",
    "import diffrax\n",
    "import equinox as eqx  # https://github.com/patrick-kidger/equinox\n",
    "import jax\n",
    "import jax.nn as jnn\n",
    "import jax.numpy as jnp\n",
    "import jax.random as jr\n",
    "import jax.tree_util as jtu\n",
    "import matplotlib.pyplot as plt\n",
    "import optax  # https://github.com/deepmind/optax\n",
    "import numpy as np\n",
    "import control\n",
    "import pdb\n",
    "import jax\n",
    "from jax import lax\n",
    "import lineax\n",
    "from helpers_impl import generate_system,  NeuralODEPlant, get_gpu_memory\n",
    "from tqdm import tqdm\n",
    "import gc\n",
    "from IPython.display import clear_output\n",
    "from jax.flatten_util import ravel_pytree\n",
    "from diffrax import diffeqsolve, Tsit5, ODETerm, ReversibleHeun, Heun\n",
    "jax.config.update(\"jax_enable_x64\", False)"
   ]
  },
  {
   "cell_type": "code",
   "execution_count": 4,
   "id": "72e503ba-b0ee-4b5a-8567-aa440fcc3a18",
   "metadata": {},
   "outputs": [
    {
     "name": "stdout",
     "output_type": "stream",
     "text": [
      "Stored 'A' (ndarray)\n",
      "Stored 'B' (ndarray)\n",
      "Stored 'x00' (ndarray)\n",
      "[[1 0]\n",
      " [1 0]]\n",
      "[[1]\n",
      " [0]]\n",
      "[1.  0.5]\n"
     ]
    }
   ],
   "source": [
    "data_size=2\n",
    "\n",
    "\n",
    "#initialize the dynamical system\n",
    "A=np.array([[1,0],[1,0]])\n",
    "B=np.array([[1],[0]])\n",
    "x00=np.array([1,0.5])\n",
    "%store  A\n",
    "%store   B\n",
    "%store  x00\n",
    "print(A)\n",
    "print(B)\n",
    "print(x00)\n",
    "batch_size=1  \n",
    "\n",
    "t_size=32\n",
    "t0 = 0\n",
    "t1 = 1\n",
    "ts = jnp.linspace(t0, t1, t_size)\n",
    "tss = jnp.expand_dims(ts, axis=0)\n",
    "tsss = jnp.repeat(tss, repeats=batch_size, axis=0)\n",
    "#initialize the ODE\n",
    "seed=5679\n",
    "\n",
    "hidden_size=data_size\n",
    "noise_size=hidden_size+1\n",
    "width_size=10\n",
    "depth=5\n",
    "\n",
    "key = jr.PRNGKey(seed)\n",
    "\n",
    "generator = NeuralODEPlant(\n",
    "    data_size,\n",
    "    hidden_size,\n",
    "    width_size,\n",
    "    depth,\n",
    "    A,\n",
    "    B,\n",
    "    key=key,\n",
    ")\n",
    "\n",
    "\n",
    "#learning rate\n",
    "learning_rate=0.00001\n",
    "\n",
    "#adam optimizer\n",
    "b1=0.9\n",
    "b2=0.999\n",
    "eps=1e-08\n",
    "optim = optax.adam(learning_rate, b1=b1, b2=b2, eps=0, eps_root=eps)\n",
    "\n",
    "opt_state = optim.init(eqx.filter(generator, eqx.is_inexact_array))\n",
    "R=0.0\n",
    "\n",
    "\n",
    "#initial conditions \n",
    "y00=jnp.append(x00, jnp.zeros((1,1)))\n",
    "y0 = jnp.expand_dims(y00, axis=0)\n",
    "\n",
    "#common denominator term\n",
    "@jax.jit\n",
    "def smoothed_inverse_grad(grad, eps=1e-05):\n",
    "    return 1.0 / jnp.sqrt(grad + eps)\n",
    "\n",
    "#for cost and its gradient evaluation\n",
    "@eqx.filter_value_and_grad  \n",
    "def loss(model):\n",
    "   \n",
    "    pred_y = jax.vmap(model)(tsss,  y0)\n",
    "    \n",
    "    los_energy = jnp.mean(jnp.sum(pred_y[:,-1,0:hidden_size]**2,axis=1))\n",
    "\n",
    "    return los_energy\n",
    "\n",
    "#for energy and its gradient evaluation\n",
    "@eqx.filter_value_and_grad  \n",
    "def loss_kin(model):\n",
    "   \n",
    "    pred_y = jax.vmap(model)(tsss,  y0)\n",
    "    \n",
    "    kin_energy=  jnp.mean(pred_y[:,-1,-1])\n",
    "\n",
    "    return kin_energy\n",
    "\n",
    "#for Hessian evaluation\n",
    "@eqx.filter_jit\n",
    "def l1(flat_params, static, unravel_fn):\n",
    "\n",
    "    unflat_params = unravel_fn(flat_params)\n",
    "    modelx = eqx.combine(static, unflat_params)\n",
    "\n",
    "    vf =  diffrax.ODETerm(modelx.vf)\n",
    "\n",
    "    solver = Heun(scan_kind=\"bounded\")\n",
    "    t0 = ts[0]\n",
    "    t1 = ts[-1]\n",
    "   \n",
    "    dt=(t1-t0)/ts.shape[0]\n",
    "    pdb.set_trace()\n",
    "    pred_y = diffeqsolve(vf, solver, t0=t0, t1=t1, dt0=dt, y0=y00, args=None)\n",
    "    \n",
    "    los_energy = jnp.mean(jnp.sum(pred_y.ys[-1,0:hidden_size]**2,axis=0))\n",
    "    score= los_energy\n",
    "\n",
    "    return score\n",
    "\n",
    "#for evaluation of directional derivatives of control energy\n",
    "@jax.jit\n",
    "def rms_full_grad(flat_grads, flat_grads1, hessian,  params, eps, ema_grad, ema_sqr_grad, counter):\n",
    "    #common denominator term\n",
    "    ema_sqr_grad = ema_sqr_grad /(1-b2**(counter+1))\n",
    "    ema_grad = ema_grad /(1-b1**(counter+1))\n",
    "    denom= smoothed_inverse_grad((ema_sqr_grad), eps)\n",
    "    dem2 = smoothed_inverse_grad((jnp.square(flat_grads)), eps)\n",
    "    \n",
    "\n",
    "    PP_ema= ema_grad * (hessian @ (ema_grad* denom) )\n",
    "\n",
    "    P_multiplier=  learning_rate* denom * ((1+b1)/(1-b1)  +((1+b2)/(1-b2))* ( eps*denom**2 -1 ))/2 \n",
    "\n",
    "\n",
    "    kin_decline_from_loss = -jnp.dot(flat_grads1, (ema_grad* denom)) \n",
    "    kin_decline_from_P_term = - jnp.dot(flat_grads1, PP_ema * P_multiplier ) \n",
    " \n",
    "\n",
    "    jax.debug.print(\"directional derivative along unmodified loss = {}\", kin_decline_from_loss)\n",
    "    jax.debug.print(\"directional derivative along bias term = {}\",  kin_decline_from_P_term)\n",
    " \n",
    "    return kin_decline_from_loss, kin_decline_from_P_term\n",
    "    \n",
    "@eqx.filter_jit\n",
    "def make_step(model, batch_size, tsss, key, opt_state, y0,  ema_grad, ema_sqr_grad, counter):\n",
    "\n",
    "    key = jr.split(key, batch_size)\n",
    "    \n",
    "    #evaluate loss, energy and gradients\n",
    "    value, grads = loss(model)\n",
    "    value1, grads1 = loss_kin(model)\n",
    "    #hessian evaluation\n",
    "    arr, static = eqx.partition(model, eqx.is_inexact_array)\n",
    "    params, unravel_fn = ravel_pytree(arr)\n",
    "    hessian=jax.hessian(l1)(params, static, unravel_fn)\n",
    " \n",
    "    #flattening the gradients\n",
    "    flat_grads, _ = ravel_pytree(eqx.filter(grads, eqx.is_inexact_array))\n",
    "    flat_grads1, _ = ravel_pytree(eqx.filter(grads1, eqx.is_inexact_array))\n",
    "\n",
    "    #evaluation of ema gradients\n",
    "    ema_grad = b1*ema_grad + (1-b1) * flat_grads\n",
    "    ema_sqr_grad = b2*ema_sqr_grad + (1-b2) * jnp.square(flat_grads)\n",
    "\n",
    "    cos_theta_grad_loss, cos_theta_grad_kin=rms_full_grad(flat_grads, flat_grads1, hessian, params, eps, ema_grad, ema_sqr_grad, counter)\n",
    "\n",
    "    #update the control network\n",
    "    updates, opt_state = optim.update(grads, opt_state)\n",
    "    model = eqx.apply_updates(model, updates)\n",
    "\n",
    "    counter+=1\n",
    "    return model, opt_state, grads, value, value1, cos_theta_grad_kin, cos_theta_grad_loss, jnp.linalg.norm(params), ema_grad, ema_sqr_grad, counter\n",
    "\n",
    "#compute the first values of cost and energy for ema \n",
    "tot_iter=100000\n",
    "losses, grads = loss(generator)\n",
    "kin, grads1 = loss_kin(generator)\n",
    "arr, static = eqx.partition(generator, eqx.is_inexact_array)\n",
    "params, unravel_fn = ravel_pytree(arr)\n",
    "flat_grads, _ = ravel_pytree(eqx.filter(grads, eqx.is_inexact_array))\n",
    "ema_grad =  flat_grads\n",
    "ema_sqr_grad = jnp.square(flat_grads)"
   ]
  },
  {
   "cell_type": "code",
   "execution_count": null,
   "id": "27721544-a57e-43a8-b80e-c0a2f274511a",
   "metadata": {},
   "outputs": [],
   "source": [
    "y00"
   ]
  },
  {
   "cell_type": "code",
   "execution_count": 7,
   "id": "d2eae21a-f306-4371-a650-9a6b4dbee923",
   "metadata": {},
   "outputs": [
    {
     "name": "stderr",
     "output_type": "stream",
     "text": [
      "  0%|          | 0/100000 [00:00<?, ?it/s]"
     ]
    },
    {
     "name": "stdout",
     "output_type": "stream",
     "text": [
      "> \u001b[0;32m/tmp/ipykernel_1820067/3142518197.py\u001b[0m(99)\u001b[0;36ml1\u001b[0;34m()\u001b[0m\n",
      "\u001b[0;32m     97 \u001b[0;31m    \u001b[0mdt\u001b[0m\u001b[0;34m=\u001b[0m\u001b[0;34m(\u001b[0m\u001b[0mt1\u001b[0m\u001b[0;34m-\u001b[0m\u001b[0mt0\u001b[0m\u001b[0;34m)\u001b[0m\u001b[0;34m/\u001b[0m\u001b[0mts\u001b[0m\u001b[0;34m.\u001b[0m\u001b[0mshape\u001b[0m\u001b[0;34m[\u001b[0m\u001b[0;36m0\u001b[0m\u001b[0;34m]\u001b[0m\u001b[0;34m\u001b[0m\u001b[0;34m\u001b[0m\u001b[0m\n",
      "\u001b[0m\u001b[0;32m     98 \u001b[0;31m    \u001b[0mpdb\u001b[0m\u001b[0;34m.\u001b[0m\u001b[0mset_trace\u001b[0m\u001b[0;34m(\u001b[0m\u001b[0;34m)\u001b[0m\u001b[0;34m\u001b[0m\u001b[0;34m\u001b[0m\u001b[0m\n",
      "\u001b[0m\u001b[0;32m---> 99 \u001b[0;31m    \u001b[0mpred_y\u001b[0m \u001b[0;34m=\u001b[0m \u001b[0mdiffeqsolve\u001b[0m\u001b[0;34m(\u001b[0m\u001b[0mvf\u001b[0m\u001b[0;34m,\u001b[0m \u001b[0msolver\u001b[0m\u001b[0;34m,\u001b[0m \u001b[0mt0\u001b[0m\u001b[0;34m=\u001b[0m\u001b[0mt0\u001b[0m\u001b[0;34m,\u001b[0m \u001b[0mt1\u001b[0m\u001b[0;34m=\u001b[0m\u001b[0mt1\u001b[0m\u001b[0;34m,\u001b[0m \u001b[0mdt0\u001b[0m\u001b[0;34m=\u001b[0m\u001b[0mdt\u001b[0m\u001b[0;34m,\u001b[0m \u001b[0my0\u001b[0m\u001b[0;34m=\u001b[0m\u001b[0my00\u001b[0m\u001b[0;34m,\u001b[0m \u001b[0margs\u001b[0m\u001b[0;34m=\u001b[0m\u001b[0;32mNone\u001b[0m\u001b[0;34m)\u001b[0m\u001b[0;34m\u001b[0m\u001b[0;34m\u001b[0m\u001b[0m\n",
      "\u001b[0m\u001b[0;32m    100 \u001b[0;31m\u001b[0;34m\u001b[0m\u001b[0m\n",
      "\u001b[0m\u001b[0;32m    101 \u001b[0;31m    \u001b[0mlos_energy\u001b[0m \u001b[0;34m=\u001b[0m \u001b[0mjnp\u001b[0m\u001b[0;34m.\u001b[0m\u001b[0mmean\u001b[0m\u001b[0;34m(\u001b[0m\u001b[0mjnp\u001b[0m\u001b[0;34m.\u001b[0m\u001b[0msum\u001b[0m\u001b[0;34m(\u001b[0m\u001b[0mpred_y\u001b[0m\u001b[0;34m.\u001b[0m\u001b[0mys\u001b[0m\u001b[0;34m[\u001b[0m\u001b[0;34m-\u001b[0m\u001b[0;36m1\u001b[0m\u001b[0;34m,\u001b[0m\u001b[0;36m0\u001b[0m\u001b[0;34m:\u001b[0m\u001b[0mhidden_size\u001b[0m\u001b[0;34m]\u001b[0m\u001b[0;34m**\u001b[0m\u001b[0;36m2\u001b[0m\u001b[0;34m,\u001b[0m\u001b[0maxis\u001b[0m\u001b[0;34m=\u001b[0m\u001b[0;36m0\u001b[0m\u001b[0;34m)\u001b[0m\u001b[0;34m)\u001b[0m\u001b[0;34m\u001b[0m\u001b[0;34m\u001b[0m\u001b[0m\n",
      "\u001b[0m\n"
     ]
    },
    {
     "name": "stdin",
     "output_type": "stream",
     "text": [
      "ipdb>  vf\n"
     ]
    },
    {
     "name": "stdout",
     "output_type": "stream",
     "text": [
      "ODETerm(\n",
      "  vector_field=VectorField(\n",
      "    poly0=MLP(\n",
      "      layers=(\n",
      "        Linear(\n",
      "          weight=f32[10,1],\n",
      "          bias=f32[10],\n",
      "          in_features=1,\n",
      "          out_features=10,\n",
      "          use_bias=True\n",
      "        ),\n",
      "        Linear(\n",
      "          weight=f32[10,10],\n",
      "          bias=f32[10],\n",
      "          in_features=10,\n",
      "          out_features=10,\n",
      "          use_bias=True\n",
      "        ),\n",
      "        Linear(\n",
      "          weight=f32[10,10],\n",
      "          bias=f32[10],\n",
      "          in_features=10,\n",
      "          out_features=10,\n",
      "          use_bias=True\n",
      "        ),\n",
      "        Linear(\n",
      "          weight=f32[10,10],\n",
      "          bias=f32[10],\n",
      "          in_features=10,\n",
      "          out_features=10,\n",
      "          use_bias=True\n",
      "        ),\n",
      "        Linear(\n",
      "          weight=f32[10,10],\n",
      "          bias=f32[10],\n",
      "          in_features=10,\n",
      "          out_features=10,\n",
      "          use_bias=True\n",
      "        ),\n",
      "        Linear(\n",
      "          weight=f32[1,10],\n",
      "          bias=f32[1],\n",
      "          in_features=10,\n",
      "          out_features=1,\n",
      "          use_bias=True\n",
      "        )\n",
      "      ),\n",
      "      activation=<wrapped function relu>,\n",
      "      final_activation=<function <lambda>>,\n",
      "      use_bias=True,\n",
      "      use_final_bias=True,\n",
      "      in_size=1,\n",
      "      out_size=1,\n",
      "      width_size=10,\n",
      "      depth=5\n",
      "    ),\n",
      "    A=i32[2,2],\n",
      "    B=i32[2,1],\n",
      "    hidden_size=2\n",
      "  )\n",
      ")\n"
     ]
    },
    {
     "name": "stdin",
     "output_type": "stream",
     "text": [
      "ipdb>  y00\n"
     ]
    },
    {
     "name": "stdout",
     "output_type": "stream",
     "text": [
      "Array([1. , 0.5, 0. ], dtype=float32)\n"
     ]
    },
    {
     "name": "stdin",
     "output_type": "stream",
     "text": [
      "ipdb>  exit\n"
     ]
    },
    {
     "name": "stderr",
     "output_type": "stream",
     "text": [
      "  0%|          | 0/100000 [11:38<?, ?it/s]\n"
     ]
    }
   ],
   "source": [
    "#save costs and energy\n",
    "saved_loss=[]\n",
    "saved_kin=[]\n",
    "#save directional derivatives\n",
    "saved_product1=[]\n",
    "saved_product2=[]\n",
    "\n",
    "ini_key=jr.PRNGKey(seed)\n",
    "key= jr.split(key, 1)[0]\n",
    "alpha=0.9\n",
    "\n",
    "counter=jnp.int32(0)\n",
    "tsss = jnp.repeat(tss, repeats=batch_size, axis=0)\n",
    "\n",
    "score=10000000\n",
    "epochs=[]\n",
    "ema_loss=0\n",
    "for k in tqdm(range(0,tot_iter)):\n",
    "   \n",
    "    key= jr.split(key, 1)[0]\n",
    "    #run optimization steps, evaluate the cost and energy, directional derivatives\n",
    "    generator, opt_state, grads, losses, kin, cos_theta_imp, cos_theta_loss, param_norm, ema_grad, ema_sqr_grad, counter= make_step(generator, batch_size, tsss, key, opt_state, y0,  ema_grad, ema_sqr_grad,counter)\n",
    "    \n",
    "    if k==0:\n",
    "        ema_loss=losses\n",
    "    else:\n",
    "        ema_loss=ema_loss*alpha+losses*(1-alpha)\n",
    "    \n",
    "    if ema_loss<score:\n",
    "        score=ema_loss\n",
    "\n",
    "    print(\"ema loss\")\n",
    "    print(ema_loss)\n",
    "    print(\"kin\")\n",
    "    print(kin)\n",
    "    saved_loss.append(jax.device_get(losses))\n",
    "    saved_kin.append(jax.device_get(kin))\n",
    "    saved_product1.append(jax.device_get(cos_theta_imp))\n",
    "    saved_product2.append(jax.device_get(cos_theta_loss))\n",
    "\n",
    "    if k%500==0:\n",
    "        gc.collect()\n",
    "        clear_output(wait=True)\n",
    "        \n",
    "    if jnp.linalg.norm(ema_loss)<1e-06:\n",
    "        break\n",
    "    del grads, losses, kin\n",
    "\n"
   ]
  },
  {
   "cell_type": "code",
   "execution_count": 37,
   "id": "52a15a5c-68d9-479a-a5a2-56836896229b",
   "metadata": {},
   "outputs": [
    {
     "data": {
      "text/plain": [
       "[<matplotlib.lines.Line2D at 0x76265753e870>]"
      ]
     },
     "execution_count": 37,
     "metadata": {},
     "output_type": "execute_result"
    },
    {
     "data": {
      "image/png": "[encoded data removed]",
      "text/plain": [
       "<Figure size 640x480 with 1 Axes>"
      ]
     },
     "metadata": {},
     "output_type": "display_data"
    }
   ],
   "source": [
    "plt.plot(saved_product1)\n",
    "#plt.plot(saved_product2)"
   ]
  },
  {
   "cell_type": "code",
   "execution_count": 47,
   "id": "943ea086-cd4c-46fc-b0c6-0152a6d0817a",
   "metadata": {},
   "outputs": [
    {
     "name": "stdout",
     "output_type": "stream",
     "text": [
      "[-7.33367597e-06 -1.39510630e-05 -1.99794777e-05 ...  8.88864994e-02\n",
      "  6.82752848e-01  1.72867680e+00]\n"
     ]
    }
   ],
   "source": [
    "def forward_moving_average(arr, window_size):\n",
    "    \"\"\"\n",
    "    Smooths a 1D NumPy array using a forward-looking moving average.\n",
    "    \n",
    "    Args:\n",
    "        arr: Input 1D NumPy array\n",
    "        window_size: Size of the forward-looking window\n",
    "    \n",
    "    Returns:\n",
    "        Smoothed NumPy array of the same length\n",
    "    \"\"\"\n",
    "    n = len(arr)\n",
    "    smoothed = np.zeros(n)\n",
    "    \n",
    "    for i in range(n):\n",
    "        # Take the mean of the current and future elements within the window\n",
    "        end_idx = min(i + window_size, n)\n",
    "        smoothed[i] = np.mean(arr[i:end_idx])\n",
    "    \n",
    "    return smoothed\n",
    "\n",
    "# Example usage\n",
    "arr = np.array([1.0, 2.0, 3.0, 4.0, 5.0, 6.0])\n",
    "window_size = 1500\n",
    "smoothed_arr = forward_moving_average(np.stack(saved_product1), window_size)\n",
    "print(smoothed_arr)"
   ]
  },
  {
   "cell_type": "code",
   "execution_count": 49,
   "id": "6f81a2df-cd93-45fd-89cb-c9bb6d57eed8",
   "metadata": {},
   "outputs": [
    {
     "data": {
      "text/plain": [
       "[<matplotlib.lines.Line2D at 0x762672b110a0>]"
      ]
     },
     "execution_count": 49,
     "metadata": {},
     "output_type": "execute_result"
    },
    {
     "data": {
      "image/png": "[encoded data removed]",
      "text/plain": [
       "<Figure size 640x480 with 1 Axes>"
      ]
     },
     "metadata": {},
     "output_type": "display_data"
    }
   ],
   "source": [
    "plt.plot(smoothed_arr)"
   ]
  },
  {
   "cell_type": "code",
   "execution_count": 51,
   "id": "0e3d42b2-999e-49a7-93ec-9992ca730293",
   "metadata": {},
   "outputs": [
    {
     "data": {
      "text/plain": [
       "[<matplotlib.lines.Line2D at 0x76262c462780>]"
      ]
     },
     "execution_count": 51,
     "metadata": {},
     "output_type": "execute_result"
    },
    {
     "data": {
      "image/png": "[encoded data removed]",
      "text/plain": [
       "<Figure size 640x480 with 1 Axes>"
      ]
     },
     "metadata": {},
     "output_type": "display_data"
    }
   ],
   "source": [
    "plt.plot(saved_product2)"
   ]
  },
  {
   "cell_type": "code",
   "execution_count": null,
   "id": "764c8ad2-f20a-43e2-89d1-ffe13ef70a8e",
   "metadata": {},
   "outputs": [],
   "source": []
  }
 ],
 "metadata": {
  "kernelspec": {
   "display_name": "Python 3 (ipykernel)",
   "language": "python",
   "name": "python3"
  },
  "language_info": {
   "codemirror_mode": {
    "name": "ipython",
    "version": 3
   },
   "file_extension": ".py",
   "mimetype": "text/x-python",
   "name": "python",
   "nbconvert_exporter": "python",
   "pygments_lexer": "ipython3",
   "version": "3.12.4"
  }
 },
 "nbformat": 4,
 "nbformat_minor": 5
}
