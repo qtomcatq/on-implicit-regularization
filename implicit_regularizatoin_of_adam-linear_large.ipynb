{
 "cells": [
  {
   "cell_type": "code",
   "execution_count": 1,
   "id": "0238c5dd-82c7-43e5-9f2d-96c905b846b9",
   "metadata": {},
   "outputs": [],
   "source": [
    "from typing import Union\n",
    "import pdb\n",
    "import diffrax\n",
    "import equinox as eqx  # https://github.com/patrick-kidger/equinox\n",
    "import jax\n",
    "import jax.nn as jnn\n",
    "import jax.numpy as jnp\n",
    "import jax.random as jr\n",
    "import jax.tree_util as jtu\n",
    "import matplotlib.pyplot as plt\n",
    "import optax  # https://github.com/deepmind/optax\n",
    "import numpy as np\n",
    "import control\n",
    "import pdb\n",
    "import jax\n",
    "from jax import lax\n",
    "import lineax\n",
    "from helpers_impl import generate_system,  NeuralODEPlant, get_gpu_memory\n",
    "from tqdm import tqdm\n",
    "import gc\n",
    "from IPython.display import clear_output\n",
    "from jax.flatten_util import ravel_pytree\n",
    "from diffrax import diffeqsolve, Tsit5, ODETerm, ReversibleHeun, Heun\n",
    "jax.config.update(\"jax_enable_x64\", False)"
   ]
  },
  {
   "cell_type": "code",
   "execution_count": 3,
   "id": "a2f9c9bc-1def-4e05-827e-dc37732988b4",
   "metadata": {},
   "outputs": [],
   "source": [
    "data_size=4\n",
    "A,B=generate_system(data_size)"
   ]
  },
  {
   "cell_type": "code",
   "execution_count": 9,
   "id": "72e503ba-b0ee-4b5a-8567-aa440fcc3a18",
   "metadata": {},
   "outputs": [
    {
     "name": "stdout",
     "output_type": "stream",
     "text": [
      "Stored 'A' (ndarray)\n",
      "Stored 'B' (ndarray)\n",
      "Stored 'x00' (ndarray)\n",
      "[[ 0.00297536 -0.49866544  0.38726729  0.18560523]\n",
      " [-0.34248048 -0.05707196  0.25883402 -0.62387013]\n",
      " [ 0.20296438  0.85258791  0.87227747 -0.43771227]\n",
      " [-1.00686367 -0.15780359  0.45244791 -0.42324521]]\n",
      "[[-0.813595   -0.35522426 -0.06564255 -0.36770342]\n",
      " [-0.10622117 -0.42615195 -0.3459727   0.14684763]\n",
      " [ 0.57933916 -0.43723429 -0.27917332  0.36156879]\n",
      " [-0.58425566  0.08898704  0.24189907 -0.0881269 ]]\n",
      "[1.  0.5 0.  0. ]\n"
     ]
    }
   ],
   "source": [
    "\n",
    "#initialize the dynamical system\n",
    "#A=np.array([[1,0],[1,0]])\n",
    "#B=np.array([[1],[0]])\n",
    "x00=np.array([1,0.5])\n",
    "%store  A\n",
    "%store   B\n",
    "%store  x00\n",
    "print(A)\n",
    "print(B)\n",
    "print(x00)\n",
    "batch_size=1  \n",
    "\n",
    "t_size=32\n",
    "t0 = 0\n",
    "t1 = 1\n",
    "ts = jnp.linspace(t0, t1, t_size)\n",
    "tss = jnp.expand_dims(ts, axis=0)\n",
    "tsss = jnp.repeat(tss, repeats=batch_size, axis=0)\n",
    "#initialize the ODE\n",
    "seed=5679\n",
    "\n",
    "hidden_size=data_size\n",
    "noise_size=hidden_size+1\n",
    "width_size=10\n",
    "depth=5\n",
    "\n",
    "key = jr.PRNGKey(seed)\n",
    "\n",
    "generator = NeuralODEPlant(\n",
    "    data_size,\n",
    "    hidden_size,\n",
    "    width_size,\n",
    "    depth,\n",
    "    A,\n",
    "    B,\n",
    "    key=key,\n",
    ")\n",
    "\n",
    "\n",
    "#learning rate\n",
    "learning_rate=0.000122/4\n",
    "\n",
    "#adam optimizer\n",
    "b1=0.9\n",
    "b2=0.999\n",
    "eps=1e-08\n",
    "optim = optax.adam(learning_rate, b1=b1, b2=b2, eps=0, eps_root=eps)\n",
    "\n",
    "opt_state = optim.init(eqx.filter(generator, eqx.is_inexact_array))\n",
    "R=0.0\n",
    "\n",
    "\n",
    "#initial conditions \n",
    "y00=jnp.append(x00, jnp.zeros((1,1)))\n",
    "y0 = jnp.expand_dims(y00, axis=0)\n",
    "\n",
    "#common denominator term\n",
    "@jax.jit\n",
    "def smoothed_inverse_grad(grad, eps=1e-05):\n",
    "    return 1.0 / jnp.sqrt(grad + eps)\n",
    "\n",
    "#for cost and its gradient evaluation\n",
    "@eqx.filter_value_and_grad  \n",
    "def loss(model):\n",
    "   \n",
    "    pred_y = jax.vmap(model)(tsss,  y0)\n",
    "    \n",
    "    los_energy = jnp.mean(jnp.sum(pred_y[:,-1,0:hidden_size]**2,axis=1))\n",
    "\n",
    "    return los_energy\n",
    "\n",
    "#for energy and its gradient evaluation\n",
    "@eqx.filter_value_and_grad  \n",
    "def loss_kin(model):\n",
    "   \n",
    "    pred_y = jax.vmap(model)(tsss,  y0)\n",
    "    \n",
    "    kin_energy=  jnp.mean(pred_y[:,-1,-1])\n",
    "\n",
    "    return kin_energy\n",
    "\n",
    "#for Hessian evaluation\n",
    "@eqx.filter_jit\n",
    "def l1(flat_params, static, unravel_fn):\n",
    "\n",
    "    unflat_params = unravel_fn(flat_params)\n",
    "    modelx = eqx.combine(static, unflat_params)\n",
    "\n",
    "    vf =  diffrax.ODETerm(modelx.vf)\n",
    "\n",
    "    solver = Heun(scan_kind=\"bounded\")\n",
    "    t0 = ts[0]\n",
    "    t1 = ts[-1]\n",
    "   \n",
    "    dt=(t1-t0)/ts.shape[0]\n",
    "\n",
    "    pred_y = diffeqsolve(vf, solver, t0=t0, t1=t1, dt0=dt, y0=y00, args=None)\n",
    "    \n",
    "    los_energy = jnp.mean(jnp.sum(pred_y.ys[-1,0:hidden_size]**2,axis=0))\n",
    "    score= los_energy\n",
    "\n",
    "    return score\n",
    "\n",
    "#for evaluation of directional derivatives of control energy\n",
    "@jax.jit\n",
    "def rms_full_grad(flat_grads, flat_grads1, hessian,  params, eps, ema_grad, ema_sqr_grad, counter):\n",
    "    #common denominator term\n",
    "    ema_sqr_grad = ema_sqr_grad /(1-b2**(counter+1))\n",
    "    ema_grad = ema_grad /(1-b1**(counter+1))\n",
    "    denom= smoothed_inverse_grad((ema_sqr_grad), eps)\n",
    "    dem2 = smoothed_inverse_grad((jnp.square(flat_grads)), eps)\n",
    "    \n",
    "\n",
    "    PP_ema= ema_grad * (hessian @ (ema_grad* denom) )\n",
    "\n",
    "    P_multiplier=  learning_rate* denom * ((1+b1)/(1-b1)  +((1+b2)/(1-b2))* ( eps*denom**2 -1 ))/2 \n",
    "\n",
    "\n",
    "    kin_decline_from_loss = -jnp.dot(flat_grads1, (ema_grad* denom)) \n",
    "    kin_decline_from_P_term = - jnp.dot(flat_grads1, PP_ema * P_multiplier ) \n",
    " \n",
    "\n",
    "    jax.debug.print(\"directional derivative along unmodified loss = {}\", kin_decline_from_loss)\n",
    "    jax.debug.print(\"directional derivative along bias term = {}\",  kin_decline_from_P_term)\n",
    " \n",
    "    return kin_decline_from_loss, kin_decline_from_P_term\n",
    "    \n",
    "@eqx.filter_jit\n",
    "def make_step(model, batch_size, tsss, key, opt_state, y0,   counter, optim):\n",
    "\n",
    "    key = jr.split(key, batch_size)\n",
    "    \n",
    "    #evaluate loss, energy and gradients\n",
    "    value, grads = loss(model)\n",
    "    value1, grads1 = loss_kin(model)\n",
    "    #hessian evaluation\n",
    "    arr, static = eqx.partition(model, eqx.is_inexact_array)\n",
    "    params, unravel_fn = ravel_pytree(arr)\n",
    "    hessian=jax.hessian(l1)(params, static, unravel_fn)\n",
    " \n",
    "    #flattening the gradients\n",
    "    flat_grads, _ = ravel_pytree(eqx.filter(grads, eqx.is_inexact_array))\n",
    "    flat_grads1, _ = ravel_pytree(eqx.filter(grads1, eqx.is_inexact_array))\n",
    "\n",
    "    #evaluation of ema gradients\n",
    "    ema_grad = b1*ema_grad + (1-b1) * flat_grads\n",
    "    ema_sqr_grad = b2*ema_sqr_grad + (1-b2) * jnp.square(flat_grads)\n",
    "\n",
    "    cos_theta_grad_loss, cos_theta_grad_kin=rms_full_grad(flat_grads, flat_grads1, hessian, params, eps, ema_grad, ema_sqr_grad, counter)\n",
    "\n",
    "    #update the control network\n",
    "    updates, opt_state = optim.update(grads, opt_state)\n",
    "    model = eqx.apply_updates(model, updates)\n",
    "\n",
    "    counter+=1\n",
    "    return model, opt_state, grads, value, value1, cos_theta_grad_kin, cos_theta_grad_loss, jnp.linalg.norm(params), ema_grad, ema_sqr_grad, counter\n",
    "\n",
    "#compute the first values of cost and energy for ema \n",
    "tot_iter=100000\n",
    "losses, grads = loss(generator)\n",
    "kin, grads1 = loss_kin(generator)\n",
    "arr, static = eqx.partition(generator, eqx.is_inexact_array)\n",
    "params, unravel_fn = ravel_pytree(arr)\n",
    "flat_grads, _ = ravel_pytree(eqx.filter(grads, eqx.is_inexact_array))\n",
    "ema_grad =  flat_grads\n",
    "ema_sqr_grad = jnp.square(flat_grads)"
   ]
  },
  {
   "cell_type": "code",
   "execution_count": null,
   "id": "27721544-a57e-43a8-b80e-c0a2f274511a",
   "metadata": {},
   "outputs": [],
   "source": [
    "y00"
   ]
  },
  {
   "cell_type": "code",
   "execution_count": 13,
   "id": "d2eae21a-f306-4371-a650-9a6b4dbee923",
   "metadata": {},
   "outputs": [
    {
     "name": "stderr",
     "output_type": "stream",
     "text": [
      "  0%|          | 0/5 [00:00<?, ?it/s]\n",
      "  0%|          | 0/150000 [00:00<?, ?it/s]\u001b[A\n",
      "  0%|          | 0/5 [00:00<?, ?it/s]\n"
     ]
    },
    {
     "ename": "NameError",
     "evalue": "name 'scale_kin' is not defined",
     "output_type": "error",
     "traceback": [
      "\u001b[0;31m---------------------------------------------------------------------------\u001b[0m",
      "\u001b[0;31mNameError\u001b[0m                                 Traceback (most recent call last)",
      "Cell \u001b[0;32mIn[13], line 59\u001b[0m\n\u001b[1;32m     55\u001b[0m \u001b[38;5;28;01mfor\u001b[39;00m k \u001b[38;5;129;01min\u001b[39;00m tqdm(\u001b[38;5;28mrange\u001b[39m(\u001b[38;5;241m0\u001b[39m,tot_iter)):\n\u001b[1;32m     57\u001b[0m     key\u001b[38;5;241m=\u001b[39m jr\u001b[38;5;241m.\u001b[39msplit(key, \u001b[38;5;241m1\u001b[39m)[\u001b[38;5;241m0\u001b[39m]\n\u001b[0;32m---> 59\u001b[0m     y0 \u001b[38;5;241m=\u001b[39m jr\u001b[38;5;241m.\u001b[39mnormal(key, shape\u001b[38;5;241m=\u001b[39m(batch_size, data_size)) \u001b[38;5;241m/\u001b[39m scale_kin\n\u001b[1;32m     61\u001b[0m     y00\u001b[38;5;241m=\u001b[39mjnp\u001b[38;5;241m.\u001b[39mconcatenate([y0,jnp\u001b[38;5;241m.\u001b[39mzeros((batch_size,\u001b[38;5;241m1\u001b[39m))], axis\u001b[38;5;241m=\u001b[39m\u001b[38;5;241m1\u001b[39m)\n\u001b[1;32m     62\u001b[0m     \u001b[38;5;66;03m#run optimization steps, evaluate the cost and energy, directional derivatives\u001b[39;00m\n",
      "\u001b[0;31mNameError\u001b[0m: name 'scale_kin' is not defined"
     ]
    }
   ],
   "source": [
    "#save costs and energy\n",
    "saved_loss=[]\n",
    "saved_kin=[]\n",
    "#save directional derivatives\n",
    "saved_product1=[]\n",
    "saved_product2=[]\n",
    "\n",
    "ini_key=jr.PRNGKey(seed)\n",
    "key= jr.split(key, 1)[0]\n",
    "alpha=0.9\n",
    "\n",
    "counter=jnp.int32(0)\n",
    "tsss = jnp.repeat(tss, repeats=batch_size, axis=0)\n",
    "\n",
    "score=10000000\n",
    "epochs=[]\n",
    "ema_loss=0\n",
    "for k in tqdm(range(0,tot_iter)):\n",
    "   \n",
    "    key= jr.split(key, 1)[0]\n",
    "    #run optimization steps, evaluate the cost and energy, directional derivatives\n",
    "    generator, opt_state, grads, losses, kin, cos_theta_imp, cos_theta_loss, param_norm, ema_grad, ema_sqr_grad, counter= make_step(generator, batch_size, tsss, key, opt_state, y0,  ema_grad, ema_sqr_grad,counter)\n",
    "    \n",
    "    if k==0:\n",
    "        ema_loss=losses\n",
    "    else:\n",
    "        ema_loss=ema_loss*alpha+losses*(1-alpha)\n",
    "    \n",
    "    if ema_loss<score:\n",
    "        score=ema_loss\n",
    "\n",
    "    print(\"ema loss\")\n",
    "    print(ema_loss)\n",
    "    print(\"kin\")\n",
    "    print(kin)\n",
    "    saved_loss.append(jax.device_get(losses))\n",
    "    saved_kin.append(jax.device_get(kin))\n",
    "    saved_product1.append(jax.device_get(cos_theta_imp))\n",
    "    saved_product2.append(jax.device_get(cos_theta_loss))\n",
    "\n",
    "    if k%500==0:\n",
    "        gc.collect()\n",
    "        clear_output(wait=True)\n",
    "        \n",
    "    if jnp.linalg.norm(ema_loss)<1e-06:\n",
    "        break\n",
    "    del grads, losses, kin\n",
    "\n"
   ]
  },
  {
   "cell_type": "code",
   "execution_count": 55,
   "id": "2c353363-14c3-4753-84ab-2fb15fc013f1",
   "metadata": {},
   "outputs": [
    {
     "data": {
      "text/plain": [
       "[<matplotlib.lines.Line2D at 0x72207c35dd60>]"
      ]
     },
     "execution_count": 55,
     "metadata": {},
     "output_type": "execute_result"
    },
    {
     "data": {
      "image/png": "[encoded data removed]",
      "text/plain": [
       "<Figure size 640x480 with 1 Axes>"
      ]
     },
     "metadata": {},
     "output_type": "display_data"
    }
   ],
   "source": [
    "plt.plot(saved_product1)\n",
    "plt.plot(np.array(saved_product1_13)/4)\n",
    "#plt.plot(saved_product2)"
   ]
  },
  {
   "cell_type": "code",
   "execution_count": 37,
   "id": "d388fc10-fec6-4ffa-95d5-3c21743a06b0",
   "metadata": {},
   "outputs": [
    {
     "data": {
      "text/plain": [
       "[<matplotlib.lines.Line2D at 0x722087f33500>]"
      ]
     },
     "execution_count": 37,
     "metadata": {},
     "output_type": "execute_result"
    },
    {
     "data": {
      "image/png": "[encoded data removed]",
      "text/plain": [
       "<Figure size 640x480 with 1 Axes>"
      ]
     },
     "metadata": {},
     "output_type": "display_data"
    }
   ],
   "source": [
    "plt.plot(saved_loss)\n",
    "plt.plot(saved_kin)"
   ]
  },
  {
   "cell_type": "code",
   "execution_count": null,
   "id": "625f51f3-1859-4a99-ae44-9823b8ec8985",
   "metadata": {},
   "outputs": [],
   "source": [
    "saved_loss_13=saved_loss\n",
    "saved_loss_13=saved_kin\n",
    "saved_product1_13=saved_product1\n",
    "saved_product2_13=saved_product2"
   ]
  },
  {
   "cell_type": "code",
   "execution_count": null,
   "id": "daebe7af-80a9-4fd2-b00c-51538d34d6c4",
   "metadata": {},
   "outputs": [],
   "source": [
    "saved_loss_14=saved_loss\n",
    "saved_loss_14=saved_kin\n",
    "saved_product1_14=saved_product1\n",
    "saved_product2_14=saved_product2"
   ]
  },
  {
   "cell_type": "code",
   "execution_count": 61,
   "id": "c48268f9-076d-4d14-bbf9-72b9e9323b46",
   "metadata": {},
   "outputs": [
    {
     "data": {
      "text/plain": [
       "array(9.117623, dtype=float32)"
      ]
     },
     "execution_count": 61,
     "metadata": {},
     "output_type": "execute_result"
    }
   ],
   "source": [
    "saved_kin[-1]"
   ]
  },
  {
   "cell_type": "code",
   "execution_count": 65,
   "id": "94ab416d-02ad-4328-8637-697cb143f487",
   "metadata": {},
   "outputs": [
    {
     "data": {
      "text/plain": [
       "array(9.968543, dtype=float32)"
      ]
     },
     "execution_count": 65,
     "metadata": {},
     "output_type": "execute_result"
    }
   ],
   "source": [
    "saved_loss_13[-1]"
   ]
  },
  {
   "cell_type": "code",
   "execution_count": 63,
   "id": "9744ff3d-834f-4fb2-924f-0332d1750b6e",
   "metadata": {},
   "outputs": [
    {
     "data": {
      "text/plain": [
       "array(9.783958, dtype=float32)"
      ]
     },
     "execution_count": 63,
     "metadata": {},
     "output_type": "execute_result"
    }
   ],
   "source": [
    "saved_loss_14[-1]"
   ]
  },
  {
   "cell_type": "code",
   "execution_count": 47,
   "id": "943ea086-cd4c-46fc-b0c6-0152a6d0817a",
   "metadata": {},
   "outputs": [
    {
     "name": "stdout",
     "output_type": "stream",
     "text": [
      "[-7.33367597e-06 -1.39510630e-05 -1.99794777e-05 ...  8.88864994e-02\n",
      "  6.82752848e-01  1.72867680e+00]\n"
     ]
    }
   ],
   "source": [
    "def forward_moving_average(arr, window_size):\n",
    "    \"\"\"\n",
    "    Smooths a 1D NumPy array using a forward-looking moving average.\n",
    "    \n",
    "    Args:\n",
    "        arr: Input 1D NumPy array\n",
    "        window_size: Size of the forward-looking window\n",
    "    \n",
    "    Returns:\n",
    "        Smoothed NumPy array of the same length\n",
    "    \"\"\"\n",
    "    n = len(arr)\n",
    "    smoothed = np.zeros(n)\n",
    "    \n",
    "    for i in range(n):\n",
    "        # Take the mean of the current and future elements within the window\n",
    "        end_idx = min(i + window_size, n)\n",
    "        smoothed[i] = np.mean(arr[i:end_idx])\n",
    "    \n",
    "    return smoothed\n",
    "\n",
    "# Example usage\n",
    "arr = np.array([1.0, 2.0, 3.0, 4.0, 5.0, 6.0])\n",
    "window_size = 1500\n",
    "smoothed_arr = forward_moving_average(np.stack(saved_product1), window_size)\n",
    "print(smoothed_arr)"
   ]
  },
  {
   "cell_type": "code",
   "execution_count": 49,
   "id": "6f81a2df-cd93-45fd-89cb-c9bb6d57eed8",
   "metadata": {},
   "outputs": [
    {
     "data": {
      "text/plain": [
       "[<matplotlib.lines.Line2D at 0x762672b110a0>]"
      ]
     },
     "execution_count": 49,
     "metadata": {},
     "output_type": "execute_result"
    },
    {
     "data": {
      "image/png": "[encoded data removed]",
      "text/plain": [
       "<Figure size 640x480 with 1 Axes>"
      ]
     },
     "metadata": {},
     "output_type": "display_data"
    }
   ],
   "source": [
    "plt.plot(smoothed_arr)"
   ]
  },
  {
   "cell_type": "code",
   "execution_count": 51,
   "id": "0e3d42b2-999e-49a7-93ec-9992ca730293",
   "metadata": {},
   "outputs": [
    {
     "data": {
      "text/plain": [
       "[<matplotlib.lines.Line2D at 0x76262c462780>]"
      ]
     },
     "execution_count": 51,
     "metadata": {},
     "output_type": "execute_result"
    },
    {
     "data": {
      "image/png": "[encoded data removed]",
      "text/plain": [
       "<Figure size 640x480 with 1 Axes>"
      ]
     },
     "metadata": {},
     "output_type": "display_data"
    }
   ],
   "source": [
    "plt.plot(saved_product2)"
   ]
  },
  {
   "cell_type": "code",
   "execution_count": null,
   "id": "764c8ad2-f20a-43e2-89d1-ffe13ef70a8e",
   "metadata": {},
   "outputs": [],
   "source": []
  }
 ],
 "metadata": {
  "kernelspec": {
   "display_name": "Python 3 (ipykernel)",
   "language": "python",
   "name": "python3"
  },
  "language_info": {
   "codemirror_mode": {
    "name": "ipython",
    "version": 3
   },
   "file_extension": ".py",
   "mimetype": "text/x-python",
   "name": "python",
   "nbconvert_exporter": "python",
   "pygments_lexer": "ipython3",
   "version": "3.12.4"
  }
 },
 "nbformat": 4,
 "nbformat_minor": 5
}
