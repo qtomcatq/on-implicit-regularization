{
 "cells": [
  {
   "cell_type": "markdown",
   "id": "cb1650a0-b1d9-44ac-8266-fda923692d89",
   "metadata": {},
   "source": [
    "Import the packages including jax, equinox and diffrax"
   ]
  },
  {
   "cell_type": "code",
   "execution_count": 1,
   "id": "694be6ab-1acd-498d-91bc-b3d7262893ca",
   "metadata": {},
   "outputs": [
    {
     "name": "stdout",
     "output_type": "stream",
     "text": [
      "[{'device': 0, 'total_memory': 24564.0, 'free_memory': 5110.625, 'used_memory': 19453.375}]\n"
     ]
    }
   ],
   "source": [
    "from typing import Union\n",
    "import pdb\n",
    "import diffrax\n",
    "import equinox as eqx  # https://github.com/patrick-kidger/equinox\n",
    "import jax\n",
    "import jax.nn as jnn\n",
    "import jax.numpy as jnp\n",
    "import jax.random as jr\n",
    "import jax.tree_util as jtu\n",
    "import matplotlib.pyplot as plt\n",
    "import optax  # https://github.com/deepmind/optax\n",
    "import numpy as np\n",
    "import control\n",
    "import pdb\n",
    "from jax.flatten_util import ravel_pytree\n",
    "import jax\n",
    "import lineax\n",
    "\n",
    "from helpers_impl import  NeuralSDEKuramoto, get_gpu_memory, adj_lattice, criticalK, objective, order_param, objective_test\n",
    "from tqdm import tqdm\n",
    "from diffrax import diffeqsolve, Tsit5, ODETerm, ReversibleHeun, Heun\n",
    "import gc\n",
    "from IPython.display import clear_output\n",
    "gc.collect()  \n",
    "print(get_gpu_memory())\n",
    "jax.config.update(\"jax_enable_x64\", True)"
   ]
  },
  {
   "cell_type": "markdown",
   "id": "abe68bc0-14c9-4d5a-b972-b0712330a31f",
   "metadata": {},
   "source": [
    "Initialize Kuramoto system: generate adjacency matrix and critical constant"
   ]
  },
  {
   "cell_type": "code",
   "execution_count": 3,
   "id": "91500e6b-cbd6-4736-9d36-83d562b97e1d",
   "metadata": {},
   "outputs": [
    {
     "name": "stdout",
     "output_type": "stream",
     "text": [
      "[{'device': 0, 'total_memory': 24564.0, 'free_memory': 5115.0, 'used_memory': 19449.0}]\n",
      "[{'device': 0, 'total_memory': 24564.0, 'free_memory': 301.625, 'used_memory': 24262.375}]\n",
      "221.4479173264424\n",
      "[{'device': 0, 'total_memory': 24564.0, 'free_memory': 301.625, 'used_memory': 24262.375}]\n"
     ]
    }
   ],
   "source": [
    "#number of oscillators\n",
    "data_size=16\n",
    "#batch size\n",
    "batch_size =1024\n",
    "#scaling of frequencies: std= 1/scale\n",
    "scale=5\n",
    "#scaling of initial phases: std= 1/scale_kin\n",
    "scale_kin=5\n",
    "\n",
    "\n",
    "print(get_gpu_memory())\n",
    "#generate adjacency matrix\n",
    "A=adj_lattice(data_size, \"erdos\", 0.3)\n",
    "\n",
    "#calculate critical constant and laplacian\n",
    "Kcrit, L=criticalK(A,data_size,scale)\n",
    "A=jnp.array(A)\n",
    "L=jnp.array(L)\n",
    "\n",
    "print(get_gpu_memory())\n",
    "\n",
    "# Create an ensemble of models\n",
    "print(Kcrit)\n",
    "print(get_gpu_memory())"
   ]
  },
  {
   "cell_type": "markdown",
   "id": "d0173e91-78b6-4bf4-b219-03866718abfd",
   "metadata": {},
   "source": [
    " Initialize the Neural ODE and optimizer"
   ]
  },
  {
   "cell_type": "code",
   "execution_count": 15,
   "id": "f3882123-5123-4c75-90bd-8f3bfa08b7ab",
   "metadata": {},
   "outputs": [],
   "source": [
    "#choose the force coefficient as 0.01 of critical constant\n",
    "K=0.01*Kcrit\n",
    "\n",
    "#initialize frequencies: global variables\n",
    "\n",
    "freqs=np.random.randn(1,data_size)/scale\n",
    "freqs=jnp.repeat(freqs, repeats=batch_size, axis=0)\n",
    "\n",
    "#batched adjacency matrix and critical constant: global variables\n",
    "\n",
    "K0 = jnp.repeat(K, repeats=batch_size, axis=0) \n",
    "A0= jnp.repeat(jnp.expand_dims(A, axis=0), repeats=batch_size, axis=0)"
   ]
  },
  {
   "cell_type": "markdown",
   "id": "e4d6473d-4d99-41e8-bb5d-c1d9a6010082",
   "metadata": {},
   "source": [
    "Functions for evaluation of system trajectories, control energy and loss"
   ]
  },
  {
   "cell_type": "code",
   "execution_count": 17,
   "id": "0ee0cae5-3a38-439d-bbe0-231be0264e7d",
   "metadata": {},
   "outputs": [],
   "source": [
    "#common denominator term\n",
    "@jax.jit\n",
    "def smoothed_inverse_grad(grad, eps=1e-05):\n",
    "    return 1.0 / jnp.sqrt(grad + eps)\n",
    "\n",
    "#for cost and its gradient evaluation\n",
    "@eqx.filter_value_and_grad  \n",
    "def loss(model,y0):\n",
    "  \n",
    "    pred_y = jax.vmap(model)(tsss, y0, freqs, A0, K0)\n",
    "    pred=jnp.squeeze(pred_y[0,-1,0:hidden_size])\n",
    "  \n",
    "    los_energy =jnp.mean( objective_test(pred_y[:,-1,0:hidden_size],A))\n",
    "\n",
    "    return los_energy\n",
    "\n",
    "\n",
    "@eqx.filter_jit\n",
    "def predict(flat_params, static, unravel_fn):\n",
    "    unflat_params = unravel_fn(flat_params)\n",
    "    modelx = eqx.combine(static, unflat_params)\n",
    "    \n",
    "    pred_y = jax.vmap(modelx)(tsss, y0, freqs, A0, K0)\n",
    "    pred=jnp.squeeze(pred_y[:,-1,0:hidden_size])\n",
    "\n",
    "   \n",
    "\n",
    "    return pred\n",
    "\n",
    "#for energy and its gradient evaluation\n",
    "@eqx.filter_jit \n",
    "def loss_kin(model,y0):\n",
    "   \n",
    "    pred_y = jax.vmap(model)(tsss,  y0, freqs, A0, K0)\n",
    "    \n",
    "    kin_energy=  jnp.mean(pred_y[:,-1,-1])\n",
    "    orparam= jnp.mean(order_param(pred_y[:,-1,0:hidden_size],L))\n",
    "    return kin_energy, orparam\n",
    "\n",
    "  \n",
    "@eqx.filter_jit\n",
    "def make_step(model, batch_size, tsss, key, opt_state, y0,  counter, optim):\n",
    "\n",
    "    key = jr.split(key, batch_size)\n",
    "    \n",
    "    #evaluate loss, energy and gradients\n",
    "    value, grads = loss(model,y0)\n",
    "    value1, orparam = loss_kin(model,y0)\n",
    "\n",
    "\n",
    "    updates, opt_state = optim.update(grads, opt_state)\n",
    "    model = eqx.apply_updates(model, updates)\n",
    "\n",
    "    counter+=1\n",
    "    return model, opt_state, grads, value, value1,  counter, orparam"
   ]
  },
  {
   "cell_type": "code",
   "execution_count": null,
   "id": "86727169-3470-45bb-9097-ef6304575b6d",
   "metadata": {},
   "outputs": [],
   "source": [
    "A loop over learning rates"
   ]
  },
  {
   "cell_type": "code",
   "execution_count": 19,
   "id": "7f8f42d0-5442-4c45-a826-2ee17c5a4289",
   "metadata": {},
   "outputs": [
    {
     "name": "stderr",
     "output_type": "stream",
     "text": [
      "\n",
      "  0%|          | 1/150000 [00:02<118:02:31,  2.83s/it]\u001b[A\n",
      "  0%|          | 2/150000 [00:03<52:45:06,  1.27s/it] \u001b[A\n",
      "  0%|          | 3/150000 [00:03<31:32:21,  1.32it/s]\u001b[A"
     ]
    },
    {
     "name": "stdout",
     "output_type": "stream",
     "text": [
      "ema loss\n",
      "4.638024679393853\n",
      "kin\n",
      "0.0035350479125295458\n",
      "order param\n",
      "0.9793616163576027\n",
      "ema loss\n",
      "4.6383683122414565\n",
      "kin\n",
      "0.0035314432387526106\n",
      "order param\n",
      "0.9791544925805789\n"
     ]
    },
    {
     "name": "stderr",
     "output_type": "stream",
     "text": [
      "\n",
      "  0%|          | 4/150000 [00:03<21:36:15,  1.93it/s]\u001b[A\n",
      "  0%|          | 5/150000 [00:03<16:08:06,  2.58it/s]\u001b[A"
     ]
    },
    {
     "name": "stdout",
     "output_type": "stream",
     "text": [
      "ema loss\n",
      "4.6380652273387835\n",
      "kin\n",
      "0.0035280420423953063\n",
      "order param\n",
      "0.9797984940221691\n",
      "ema loss\n",
      "4.637821867648353\n",
      "kin\n",
      "0.0035247968043883647\n",
      "order param\n",
      "0.9796748734586115\n"
     ]
    },
    {
     "name": "stderr",
     "output_type": "stream",
     "text": [
      "\n",
      "  0%|          | 6/150000 [00:03<12:49:24,  3.25it/s]\u001b[A\n",
      "  0%|          | 7/150000 [00:03<10:43:37,  3.88it/s]\u001b[A"
     ]
    },
    {
     "name": "stdout",
     "output_type": "stream",
     "text": [
      "ema loss\n",
      "4.637477281628381\n",
      "kin\n",
      "0.0035216492863804853\n",
      "order param\n",
      "0.9797912404723408\n",
      "ema loss\n",
      "4.637078599999159\n",
      "kin\n",
      "0.0035185151115415046\n",
      "order param\n",
      "0.9798846157785972\n"
     ]
    },
    {
     "name": "stderr",
     "output_type": "stream",
     "text": [
      "\n",
      "  0%|          | 8/150000 [00:03<9:20:48,  4.46it/s] \u001b[A\n",
      "  0%|          | 9/150000 [00:04<8:37:12,  4.83it/s]\u001b[A"
     ]
    },
    {
     "name": "stdout",
     "output_type": "stream",
     "text": [
      "ema loss\n",
      "4.636964644898874\n",
      "kin\n",
      "0.003515748628216291\n",
      "order param\n",
      "0.9795824199357872\n",
      "ema loss\n",
      "4.6371502795738335\n",
      "kin\n",
      "0.0035132604482002046\n",
      "order param\n",
      "0.9793064828942306\n"
     ]
    },
    {
     "name": "stderr",
     "output_type": "stream",
     "text": [
      "\n",
      "  0%|          | 10/150000 [00:04<8:00:02,  5.21it/s]\u001b[A\n",
      "  0%|          | 11/150000 [00:04<7:30:54,  5.54it/s]\u001b[A"
     ]
    },
    {
     "name": "stdout",
     "output_type": "stream",
     "text": [
      "ema loss\n",
      "4.637227647511804\n",
      "kin\n",
      "0.0035109432943096976\n",
      "order param\n",
      "0.9793832857531455\n",
      "ema loss\n",
      "4.637333508310836\n",
      "kin\n",
      "0.0035088934090410587\n",
      "order param\n",
      "0.9793425421206345\n"
     ]
    },
    {
     "name": "stderr",
     "output_type": "stream",
     "text": [
      "\n",
      "  0%|          | 12/150000 [00:04<7:11:02,  5.80it/s]\u001b[A\n",
      "  0%|          | 13/150000 [00:04<6:56:33,  6.00it/s]\u001b[A"
     ]
    },
    {
     "name": "stdout",
     "output_type": "stream",
     "text": [
      "ema loss\n",
      "4.63721119724294\n",
      "kin\n",
      "0.0035070737670867772\n",
      "order param\n",
      "0.9795731317244671\n",
      "ema loss\n",
      "4.637487219412477\n",
      "kin\n",
      "0.0035055492796479833\n",
      "order param\n",
      "0.9791592465644913\n"
     ]
    },
    {
     "name": "stderr",
     "output_type": "stream",
     "text": [
      "\n",
      "  0%|          | 14/150000 [00:04<6:46:55,  6.14it/s]\u001b[A\n",
      "  0%|          | 15/150000 [00:05<6:39:47,  6.25it/s]\u001b[A"
     ]
    },
    {
     "name": "stdout",
     "output_type": "stream",
     "text": [
      "ema loss\n",
      "4.637476709190404\n",
      "kin\n",
      "0.0035041906484366008\n",
      "order param\n",
      "0.9794940284454317\n",
      "ema loss\n",
      "4.637190880683861\n",
      "kin\n",
      "0.003503142191716693\n",
      "order param\n",
      "0.9797498792683761\n"
     ]
    },
    {
     "name": "stderr",
     "output_type": "stream",
     "text": [
      "\n",
      "  0%|          | 16/150000 [00:05<6:35:00,  6.33it/s]\u001b[A\n",
      "  0%|          | 17/150000 [00:05<6:29:46,  6.41it/s]\u001b[A"
     ]
    },
    {
     "name": "stdout",
     "output_type": "stream",
     "text": [
      "ema loss\n",
      "4.636619880082049\n",
      "kin\n",
      "0.0035026473423051536\n",
      "order param\n",
      "0.9800386839199063\n",
      "ema loss\n",
      "4.6364991661362716\n",
      "kin\n",
      "0.003502185950140726\n",
      "order param\n",
      "0.9795994017302179\n"
     ]
    },
    {
     "name": "stderr",
     "output_type": "stream",
     "text": [
      "\n",
      "  0%|          | 18/150000 [00:05<6:30:58,  6.39it/s]\u001b[A\n",
      "  0%|          | 19/150000 [00:05<6:27:40,  6.45it/s]\u001b[A"
     ]
    },
    {
     "name": "stdout",
     "output_type": "stream",
     "text": [
      "ema loss\n",
      "4.636094848887633\n",
      "kin\n",
      "0.003501836965400505\n",
      "order param\n",
      "0.9798828679188203\n",
      "ema loss\n",
      "4.635937669827194\n",
      "kin\n",
      "0.0035018304772683195\n",
      "order param\n",
      "0.9796151270110233\n"
     ]
    },
    {
     "name": "stderr",
     "output_type": "stream",
     "text": [
      "  0%|          | 19/150000 [00:05<12:40:45,  3.29it/s]\n",
      "  0%|          | 0/5 [00:05<?, ?it/s]\n",
      "\n",
      "KeyboardInterrupt\n",
      "\n"
     ]
    }
   ],
   "source": [
    "#the lists to save the loss, control energy, order parameters for different learning rates\n",
    "saved_global_loss=[]\n",
    "saved_global_kin=[]\n",
    "saved_global_emaloss=[]\n",
    "saved_global_emakin=[]\n",
    "saved_global_orparam=[]\n",
    "\n",
    "t_size=32\n",
    "t0 = 0\n",
    "t1 = 1\n",
    "ts = jnp.linspace(t0, t1, t_size)\n",
    "\n",
    "for glob in tqdm(range(0,5)):\n",
    "    seed=5679\n",
    "    key = jr.PRNGKey(seed)\n",
    "    strategy=\"vector\"\n",
    "\n",
    "    hidden_size=data_size\n",
    "    width_size=8*data_size\n",
    "    depth=5\n",
    "    \n",
    "    generator=NeuralSDEKuramoto(\n",
    "            data_size,\n",
    "            hidden_size,\n",
    "            width_size,\n",
    "            depth,\n",
    "            strategy,\n",
    "            key=key\n",
    "        )\n",
    "    \n",
    "    tot_iter=150000\n",
    "\n",
    "    learning_rate=0.00003*(2**glob)\n",
    "    \n",
    "    #adam optimizer\n",
    "    b1=0.9\n",
    "    b2=0.999\n",
    "    eps=1e-08\n",
    "    optim = optax.adam(learning_rate, b1=b1, b2=b2, eps=0, eps_root=eps)\n",
    "    \n",
    "    opt_state = optim.init(eqx.filter(generator, eqx.is_inexact_array))\n",
    "    \n",
    "    \n",
    "    #save costs and energy\n",
    "    saved_loss=[]\n",
    "    saved_kin=[]\n",
    "    #save directional derivatives\n",
    "    saved_product1=[]\n",
    "    saved_product2=[]\n",
    "    saved_ema_loss=[]\n",
    "    saved_ema_kin=[]\n",
    "    saved_orparam=[]\n",
    "    ini_key=jr.PRNGKey(seed)\n",
    "    key= jr.split(key, 1)[0]\n",
    "    alpha=0.995\n",
    "    \n",
    "    counter=jnp.int32(0)\n",
    "\n",
    "    \n",
    "    tss = jnp.expand_dims(ts, axis=0)\n",
    "    tsss = jnp.repeat(tss, repeats=batch_size, axis=0)\n",
    "\n",
    "    \n",
    "    score=10000000\n",
    "    epochs=[]\n",
    "    ema_loss=0\n",
    "    ema_kin=0\n",
    "    for k in tqdm(range(0,tot_iter)):\n",
    "       \n",
    "        key= jr.split(key, 1)[0]\n",
    "       \n",
    "        y0 = jr.normal(key, shape=(batch_size, data_size)) / scale_kin   \n",
    "        y00=jnp.concatenate([y0,jnp.zeros((batch_size,1))], axis=1)\n",
    "        #run optimization steps, evaluate the cost and energy, directional derivatives\n",
    "        generator, opt_state, grads, losses, kin,  counter, orparam= make_step(generator, batch_size, tsss, key, opt_state, y0, counter, optim)\n",
    "        \n",
    "        if k==0:\n",
    "            ema_loss=losses\n",
    "            ema_kin = kin\n",
    "        else:\n",
    "            ema_loss=ema_loss*alpha+losses*(1-alpha)\n",
    "            ema_kin=ema_kin*alpha+kin*(1-alpha)\n",
    "            \n",
    "        if ema_loss<score:\n",
    "            score=ema_loss\n",
    "    \n",
    "        print(\"ema loss\")\n",
    "        print(ema_loss)\n",
    "        print(\"kin\")\n",
    "        print(kin)\n",
    "        print(\"order param\")\n",
    "        print(orparam)\n",
    "        saved_loss.append(jax.device_get(losses))\n",
    "        saved_kin.append(jax.device_get(kin))\n",
    "        saved_ema_loss.append(jax.device_get(ema_loss))\n",
    "        saved_ema_kin.append(jax.device_get(ema_kin))\n",
    "        saved_orparam.append(jax.device_get(orparam))\n",
    "    \n",
    "        if k%500==0:\n",
    "            gc.collect()\n",
    "            clear_output(wait=True)\n",
    "            \n",
    "        if jnp.linalg.norm(ema_loss)<1e-06:\n",
    "            break\n",
    "        del grads, losses, kin\n",
    "        \n",
    "    saved_global_loss.append(saved_loss)\n",
    "    saved_global_kin.append(saved_kin)\n",
    "    saved_global_emaloss.append(saved_ema_loss)\n",
    "    saved_global_emakin.append(saved_ema_kin)\n",
    "    saved_global_orparam.append(saved_orparam)"
   ]
  },
  {
   "cell_type": "code",
   "execution_count": 143,
   "id": "2096848f-3abe-4c42-a5a2-0aab6afaed9a",
   "metadata": {},
   "outputs": [
    {
     "name": "stdout",
     "output_type": "stream",
     "text": [
      "Stored 'saved_global_emaloss' (list)\n",
      "Stored 'saved_global_emakin' (list)\n",
      "Stored 'saved_global_orparam' (list)\n"
     ]
    }
   ],
   "source": [
    "%store saved_global_emaloss\n",
    "%store saved_global_emakin\n",
    "%store saved_global_orparam"
   ]
  },
  {
   "cell_type": "code",
   "execution_count": 73,
   "id": "1d1d49ef-109b-4530-bbbd-276c36e9aeeb",
   "metadata": {},
   "outputs": [
    {
     "data": {
      "image/png": "[encoded data removed]",
      "text/plain": [
       "<Figure size 640x480 with 1 Axes>"
      ]
     },
     "metadata": {},
     "output_type": "display_data"
    }
   ],
   "source": [
    "plt.plot(1-smoothed_loss1, label=\"$h=2^{-15}$\",c='orange')\n",
    "plt.yscale('log')\n",
    "plt.xscale('log')"
   ]
  },
  {
   "cell_type": "code",
   "execution_count": 81,
   "id": "75e1bd5c-a1ea-47f3-89eb-6b70b19b6b29",
   "metadata": {},
   "outputs": [],
   "source": [
    "from scipy.signal import savgol_filter \n",
    "smoothed_loss1 = savgol_filter(np.array(saved_global_orparam[0]), window_length=51, polyorder=2)\n",
    "smoothed_loss2 = savgol_filter(np.array(saved_global_orparam[1]), window_length=51, polyorder=2)\n",
    "smoothed_loss3 = savgol_filter(np.array(saved_global_orparam[2]), window_length=51, polyorder=2)\n",
    "smoothed_loss4 = savgol_filter(np.array(saved_global_orparam[3]), window_length=51, polyorder=2)"
   ]
  },
  {
   "cell_type": "code",
   "execution_count": 139,
   "id": "17d4d927-8133-4d7d-a511-b30de4bb1de8",
   "metadata": {},
   "outputs": [
    {
     "data": {
      "image/png": "[encoded data removed]",
      "text/plain": [
       "<Figure size 400x300 with 1 Axes>"
      ]
     },
     "metadata": {},
     "output_type": "display_data"
    }
   ],
   "source": [
    "plt.figure(figsize=(4, 3))\n",
    "plt.plot(1-smoothed_loss1, label=\"$h=2^{-15}$\",c='orange')\n",
    "plt.plot(1-smoothed_loss2, label=\"$h=2^{-14}$\", c='green')\n",
    "plt.plot(1-smoothed_loss3, label=\"$h=2^{-13}$\", c='red')\n",
    "plt.plot(1-smoothed_loss4, label=\"$h=2^{-12}$\", c='black')\n",
    "\n",
    "#plt.plot(saved_global_loss[4])\n",
    "plt.ylabel('$1-r$', fontsize=10)\n",
    "plt.xlabel('Epochs', fontsize=10)\n",
    "plt.yscale('log')\n",
    "plt.xscale('log')\n",
    "plt.xticks(fontsize=10)\n",
    "plt.yticks(fontsize=10)\n",
    "plt.title(\"Order Parameter by Learning Rate\", fontsize=10)\n",
    "plt.legend\n",
    "plt.grid(True)\n",
    "plt.savefig(\"orderparam_learning.pdf\", format=\"pdf\", bbox_inches='tight', pad_inches=0)\n",
    "plt.show()"
   ]
  },
  {
   "cell_type": "code",
   "execution_count": 131,
   "id": "092bb230-7050-424d-8f53-0909483522ea",
   "metadata": {},
   "outputs": [
    {
     "data": {
      "image/png": "[encoded data removed]",
      "text/plain": [
       "<Figure size 400x300 with 1 Axes>"
      ]
     },
     "metadata": {},
     "output_type": "display_data"
    }
   ],
   "source": [
    "plt.figure(figsize=(4, 3))\n",
    "plt.plot(saved_global_emaloss[0], label=\"$h=2^{-15}$\",c='orange')\n",
    "plt.plot(saved_global_emaloss[1], label=\"$h=2^{-14}$\", c='green')\n",
    "plt.plot(saved_global_emaloss[2], label=\"$h=2^{-13}$\", c='red')\n",
    "plt.plot(saved_global_emaloss[3], label=\"$h=2^{-12}$\", c='black')\n",
    "\n",
    "#plt.plot(saved_global_loss[4])\n",
    "plt.ylabel('Value', fontsize=10)\n",
    "plt.xlabel('Epochs', fontsize=10)\n",
    "plt.yscale('log')\n",
    "plt.xscale('log')\n",
    "plt.xticks(fontsize=10)\n",
    "plt.yticks(fontsize=10)\n",
    "plt.legend(fontsize=10)\n",
    "plt.title(\"Loss by Learning Rate\", fontsize=10)\n",
    "plt.grid(True)\n",
    "plt.savefig(\"kuramoto_finalcost.pdf\", format=\"pdf\", bbox_inches='tight', pad_inches=0)\n",
    "plt.show()"
   ]
  },
  {
   "cell_type": "code",
   "execution_count": 141,
   "id": "13e3aa9c-667c-43a5-999d-ab30037646f7",
   "metadata": {},
   "outputs": [
    {
     "data": {
      "image/png": "[encoded data removed]",
      "text/plain": [
       "<Figure size 400x300 with 1 Axes>"
      ]
     },
     "metadata": {},
     "output_type": "display_data"
    }
   ],
   "source": [
    "plt.figure(figsize=(4, 3))\n",
    "plt.plot(np.array(saved_global_emakin[0])/25, label=\"$h=2^{-15}$\",c='orange')\n",
    "plt.plot(np.array(saved_global_emakin[1])/25,label=\"$h=2^{-14}$\", c='green')\n",
    "plt.plot(np.array(saved_global_emakin[2])/25,label=\"$h=2^{-13}$\", c='red')\n",
    "plt.plot(np.array(saved_global_emakin[3])/25, label=\"$h=2^{-12}$\", c='black')\n",
    "plt.ylabel('Value per dim', fontsize=10)\n",
    "plt.xlabel('Epochs', fontsize=10)\n",
    "plt.xscale('log')\n",
    "plt.title(\"Energy by Learning Rate\", fontsize=10)\n",
    "plt.xticks(fontsize=10)\n",
    "plt.yticks(fontsize=10)\n",
    "plt.legend\n",
    "plt.grid(True)\n",
    "plt.savefig(\"kuramoto_energy.pdf\", format=\"pdf\", bbox_inches='tight', pad_inches=0)\n",
    "plt.show()"
   ]
  },
  {
   "cell_type": "code",
   "execution_count": null,
   "id": "fdf31285-4706-4c84-8e62-79e3615e029e",
   "metadata": {},
   "outputs": [],
   "source": []
  }
 ],
 "metadata": {
  "kernelspec": {
   "display_name": "Python 3 (ipykernel)",
   "language": "python",
   "name": "python3"
  },
  "language_info": {
   "codemirror_mode": {
    "name": "ipython",
    "version": 3
   },
   "file_extension": ".py",
   "mimetype": "text/x-python",
   "name": "python",
   "nbconvert_exporter": "python",
   "pygments_lexer": "ipython3",
   "version": "3.12.4"
  }
 },
 "nbformat": 4,
 "nbformat_minor": 5
}
